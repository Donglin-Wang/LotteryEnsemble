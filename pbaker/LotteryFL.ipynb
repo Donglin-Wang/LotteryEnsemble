{
 "cells": [
  {
   "cell_type": "code",
   "execution_count": 30,
   "metadata": {},
   "outputs": [],
   "source": [
    "import os\n",
    "import functools, operator\n",
    "from abc import ABC, abstractmethod\n",
    "import numpy as np\n",
    "import pandas as pd\n",
    "import tensorflow as tf\n",
    "import matplotlib.pyplot as plt"
   ]
  },
  {
   "cell_type": "code",
   "execution_count": 2,
   "metadata": {},
   "outputs": [],
   "source": [
    "server_root = './model_MNIST/server'\n",
    "clients_root = './model_MNIST/clients'\n",
    "\n",
    "def get_server_weights_fname():\n",
    "    return f'{server_root}/weights'\n",
    "\n",
    "def get_client_weights_fname(k):\n",
    "    return f'{clients_root}/{k}/weights'\n"
   ]
  },
  {
   "cell_type": "markdown",
   "metadata": {},
   "source": [
    "# Verbose"
   ]
  },
  {
   "cell_type": "code",
   "execution_count": 3,
   "metadata": {},
   "outputs": [],
   "source": [
    "VERBOSE = 0"
   ]
  },
  {
   "cell_type": "code",
   "execution_count": 4,
   "metadata": {},
   "outputs": [],
   "source": [
    "def log(msg):\n",
    "    if VERBOSE > 0:\n",
    "        print(msg)"
   ]
  },
  {
   "cell_type": "markdown",
   "metadata": {},
   "source": [
    "# Data handling"
   ]
  },
  {
   "cell_type": "code",
   "execution_count": 5,
   "metadata": {},
   "outputs": [],
   "source": [
    "ds = tf.keras.datasets.mnist.load_data()"
   ]
  },
  {
   "cell_type": "code",
   "execution_count": 6,
   "metadata": {},
   "outputs": [],
   "source": [
    "(X_train, y_train), (X_test, y_test) = tf.keras.datasets.mnist.load_data()"
   ]
  },
  {
   "cell_type": "code",
   "execution_count": 228,
   "metadata": {},
   "outputs": [],
   "source": [
    "# This function expects data to be a list/tuple of length 2 with samples and labels: (X, y)\n",
    "# Both the samples and labels are split into k chunks\n",
    "#\n",
    "# The returned partition is a tuple of length k. Each tuple entry is a list (X, y)\n",
    "# of samples and labels.\n",
    "#\n",
    "# TODO: extend to support non-IID\n",
    "def split_data(data, k):\n",
    "    partition = []\n",
    "    data = (data[0][:5000], data[1][:5000])   #    !!!!!!!!!!!!! Chopped the data set size during development\n",
    "    n = len(data[0])\n",
    "    splits = [(n // k) * i for i in range(k)]\n",
    "\n",
    "    for i in range(len(splits)):\n",
    "        if i == len(splits) - 1:\n",
    "            partition.append((data[0][splits[i]:, :],\n",
    "                              data[1][splits[i]:]))\n",
    "        else:\n",
    "            partition.append((data[0][splits[i]:splits[i + 1], :],\n",
    "                              data[1][splits[i]:splits[i + 1]]))\n",
    "    return partition"
   ]
  },
  {
   "cell_type": "markdown",
   "metadata": {},
   "source": [
    "# Weight-zeroing Callback"
   ]
  },
  {
   "cell_type": "code",
   "execution_count": 9,
   "metadata": {},
   "outputs": [],
   "source": [
    "class ZeroMaskedWeightsCallback(tf.keras.callbacks.Callback):\n",
    "    def __init__(self, debug=False):\n",
    "        self.debug = debug\n",
    "\n",
    "\n",
    "    def _debug_zero_weights(self, client):\n",
    "        by_mask = np.count_nonzero(client.get_mask())\n",
    "        by_weights = np.count_nonzero(flatten_prunable(client.model.get_weights()))\n",
    "        print(f'active by mask: {by_mask}, non zero count: {by_weights}')\n",
    "\n",
    "\n",
    "    def on_epoch_begin(self, epoch, logs=None):\n",
    "        if self.debug:\n",
    "            print('-----')\n",
    "            self._debug_zero_weights(self.model.client)\n",
    "\n",
    "        weights = self.model.get_weights()\n",
    "        weights = unflatten_prunable(flatten_prunable(weights) * self.model.client.get_mask(), weights)\n",
    "        self.model.set_weights(weights)\n",
    "\n",
    "        if self.debug:\n",
    "            self._debug_zero_weights(self.model.client)"
   ]
  },
  {
   "cell_type": "markdown",
   "metadata": {},
   "source": [
    "# Flatten Prunable Weights"
   ]
  },
  {
   "cell_type": "code",
   "execution_count": 10,
   "metadata": {},
   "outputs": [],
   "source": [
    "def flatten_prunable(weights):\n",
    "    return np.concatenate([layer.reshape(1,-1) for layer in weights if layer.ndim > 1], axis=1)\n",
    "\n",
    "\n",
    "def unflatten_prunable(flattened, orig_weights):\n",
    "    curr_offset = 0\n",
    "    result      = []\n",
    "\n",
    "    for layer in orig_weights:\n",
    "        if layer.ndim > 1:\n",
    "            count = np.prod(layer.shape)\n",
    "            result.append(flattened[0, curr_offset:curr_offset+count].reshape(layer.shape))\n",
    "            curr_offset += count\n",
    "        else:\n",
    "            result.append(layer)            \n",
    "    return result"
   ]
  },
  {
   "cell_type": "markdown",
   "metadata": {},
   "source": [
    "## Models"
   ]
  },
  {
   "cell_type": "code",
   "execution_count": 11,
   "metadata": {},
   "outputs": [],
   "source": [
    "class ClientBase:\n",
    "    def __init__(self, k, model, hyper_params, X, y):\n",
    "        self.k              = k\n",
    "        self.model          = model\n",
    "        self.model.client   = self\n",
    "        self.hyper_params   = hyper_params\n",
    "        self.X              = X\n",
    "        self.y              = y\n",
    "\n",
    "\n",
    "    def get_weights(self):\n",
    "        return self.model.get_weights()\n",
    "\n",
    "\n",
    "    def sample_size(self):\n",
    "        return self.X.shape[0]"
   ]
  },
  {
   "cell_type": "code",
   "execution_count": 12,
   "metadata": {},
   "outputs": [],
   "source": [
    "class Client_FedAvg(ClientBase):\n",
    "    def __init__(self, k, model_creator, hyper_params, X, y):\n",
    "        super().__init__(k, model_creator(), hyper_params, X, y)\n",
    "        self.model_creator = model_creator\n",
    "\n",
    "\n",
    "    def client_update(self, weights):\n",
    "        self.model.set_weights(weights)\n",
    "        self.model.fit(self.X, self.y,\n",
    "                       batch_size=self.hyper_params['B'], epochs=self.hyper_params['E'],\n",
    "                       verbose=VERBOSE)"
   ]
  },
  {
   "cell_type": "code",
   "execution_count": 13,
   "metadata": {},
   "outputs": [],
   "source": [
    "class Client_LotteryFL(ClientBase):\n",
    "    def __init__(self, k, model_creator, initial_weights, hyper_params, X, y):\n",
    "        super().__init__(k, model_creator(), hyper_params, X, y)\n",
    "        self.initial_weights = initial_weights\n",
    "        self.mask            = np.ones(flatten_prunable(initial_weights).shape, dtype=int)\n",
    "        self.curr_prune_rate = 0\n",
    "\n",
    "\n",
    "    def prune(weights, mask, r_p):\n",
    "        alive            = weights[np.nonzero(weights*mask)] # flattened array of nonzero values\n",
    "        percentile_value = np.percentile(abs(alive), r_p*100)\n",
    "        return np.where(abs(weights) < percentile_value, 0, mask)\n",
    "    \n",
    "    \n",
    "    def get_mask(self):\n",
    "        return self.mask\n",
    "\n",
    "    \n",
    "    # This returns a longer mask that includes 1's for all non-prunable parameters (e.g. bias)\n",
    "    def get_mask_extended(self):\n",
    "        curr_offset = 0\n",
    "        result      = []\n",
    "\n",
    "        for layer in self.model.get_weights():\n",
    "            if layer.ndim > 1:\n",
    "                count = np.prod(layer.shape)\n",
    "                result.extend(self.mask[0, curr_offset:curr_offset+count])\n",
    "                curr_offset += count\n",
    "            else:\n",
    "                result.extend(np.ones(layer.size, dtype=int))\n",
    "        return np.array(result)\n",
    "\n",
    "\n",
    "    def get_weights(self):\n",
    "        weights = self.model.get_weights()\n",
    "        return unflatten_prunable(flatten_prunable(weights) * self.mask, weights)\n",
    "    \n",
    "\n",
    "    def client_update(self, weights):\n",
    "        self.model.set_weights(weights)\n",
    "        acc = self.model.evaluate(self.X, self.y, return_dict=True, verbose=VERBOSE)['accuracy']\n",
    "        \n",
    "        print(f'Client: accuracy {acc}, prune rate {self.curr_prune_rate}')\n",
    "        if acc > self.hyper_params['acc_threshold'] and self.curr_prune_rate < self.hyper_params['r_target']:\n",
    "            print('Client is pruning.')\n",
    "            self.mask = Client_LotteryFL.prune(flatten_prunable(weights), self.mask, self.hyper_params['r_p'])\n",
    "            self.curr_prune_rate = (self.mask.size - np.count_nonzero(self.mask)) / self.mask.size\n",
    "            \n",
    "            new_weights = unflatten_prunable(flatten_prunable(self.initial_weights) * self.mask, self.initial_weights)\n",
    "            self.model.set_weights(new_weights)\n",
    "        \n",
    "        self.model.fit(self.X, self.y,\n",
    "                       batch_size=self.hyper_params['B'], epochs=self.hyper_params['E'],\n",
    "                       callbacks=[ZeroMaskedWeightsCallback()],\n",
    "                       verbose=VERBOSE)"
   ]
  },
  {
   "cell_type": "code",
   "execution_count": 14,
   "metadata": {},
   "outputs": [],
   "source": [
    "def create_MNIST_model():\n",
    "    model = tf.keras.models.Sequential([\n",
    "        tf.keras.layers.Flatten(input_shape=(28, 28, 1)),\n",
    "        tf.keras.layers.Dense(128,activation='relu'),\n",
    "        tf.keras.layers.Dense(10, activation='softmax')])\n",
    "    \n",
    "    model.compile(loss='sparse_categorical_crossentropy',\n",
    "                     optimizer=tf.keras.optimizers.Adam(0.001),\n",
    "                     metrics=['accuracy'])\n",
    "    return model"
   ]
  },
  {
   "cell_type": "markdown",
   "metadata": {},
   "source": [
    "# Server"
   ]
  },
  {
   "cell_type": "code",
   "execution_count": 129,
   "metadata": {},
   "outputs": [
    {
     "name": "stdout",
     "output_type": "stream",
     "text": [
      "Foreman: run with initial weights\n",
      "1875/1875 [==============================] - 1s 654us/step - loss: 178.2424 - accuracy: 0.0720\n",
      "Selected clients:  [1 5 8 4 9]\n",
      "Selected clients:  [4 9 2 5 3]\n",
      "Foreman: run with trained global model\n",
      "1875/1875 [==============================] - 1s 660us/step - loss: 0.9717 - accuracy: 0.8373\n",
      "Foreman: rerun with initial weights\n",
      "1875/1875 [==============================] - 1s 652us/step - loss: 178.2424 - accuracy: 0.0720\n"
     ]
    }
   ],
   "source": [
    "fm = Foreman({\n",
    "    'algo': 'FedAvg',\n",
    "    'data': 'MNIST_IID',\n",
    "    'R': 2,\n",
    "    'C': .5,\n",
    "    'K': 10,\n",
    "    'E': 4,\n",
    "    'B': 64,\n",
    "    'eta': 0.01 # currently unused\n",
    "    })\n",
    "fm.run()"
   ]
  },
  {
   "cell_type": "code",
   "execution_count": 130,
   "metadata": {},
   "outputs": [],
   "source": [
    "class ServerBase(ABC):\n",
    "    def __init__(self, clients, model, hyper_params, X, y):\n",
    "        self.clients      = clients\n",
    "        self.model        = model # the global model\n",
    "        self.weights      = model.get_weights()\n",
    "        self.hyper_params = hyper_params\n",
    "        self.X            = X\n",
    "        self.y            = y\n",
    "        self.n            = functools.reduce(operator.add, [c.sample_size() for c in self.clients]) # total samples\n",
    "        self.shapes       = [layer.shape for layer in self.weights]\n",
    "    \n",
    "    def _sampleClients(self):\n",
    "        choices = np.random.choice(self.hyper_params['K'],\n",
    "                                   max(1, int(self.hyper_params['C']*self.hyper_params['K'])),\n",
    "                                   replace=False)\n",
    "        return [self.clients[i] for i in choices]\n",
    "\n",
    "\n",
    "    def _flatten(weights):\n",
    "        return np.concatenate([layer.reshape(1,-1) for layer in weights], axis=1)\n",
    "\n",
    "\n",
    "    def _unflatten(weights, shapes):\n",
    "        curr_offset = 0\n",
    "        result      = []\n",
    "\n",
    "        for s in shapes:\n",
    "            count = np.prod(s)\n",
    "            result.append(weights[0, curr_offset:curr_offset+count].reshape(s))\n",
    "            curr_offset += count\n",
    "        return result\n",
    "\n",
    "\n",
    "# PROPOSAL: replace this client-sample-based FedAvg with a FedAvg over all clients\n",
    "#           which is what I think the FedAvg algorithm actually wants.\n",
    "# OLD:\n",
    "#     def _fed_avg_aggregate(self, clients):\n",
    "#         return ServerBase._unflatten(\n",
    "#             (1/self.n) * functools.reduce(operator.add,\n",
    "#                                           [c.sample_size() * ServerBase._flatten(c.get_weights()) for c in clients]),\n",
    "#             self.shapes)\n",
    "# NEW:\n",
    "# Here we ignore the parameter clients and use self.clients, which is actually what FedAvg is supposed to do.\n",
    "# TODO: If accepted, get rid of argument and clean up calls.\n",
    "    def _fed_avg_aggregate(self, clients):\n",
    "        return ServerBase._unflatten(\n",
    "            (1/self.n) * functools.reduce(operator.add,\n",
    "                                          [c.sample_size() * ServerBase._flatten(c.get_weights()) for c in self.clients]),\n",
    "            self.shapes)\n",
    "\n",
    "\n",
    "    def get_weights(self):\n",
    "        return self.weights\n",
    "\n",
    "\n",
    "    @abstractmethod\n",
    "    def run(self):\n",
    "        pass"
   ]
  },
  {
   "cell_type": "code",
   "execution_count": 131,
   "metadata": {},
   "outputs": [],
   "source": [
    "class Server_FedAvg(ServerBase):\n",
    "    def __init__(self, clients, model, hyper_params, X, y):\n",
    "        super().__init__(clients, model, hyper_params, X, y)\n",
    "    \n",
    "    def run(self):\n",
    "        for r in range(self.hyper_params['R']):\n",
    "            log(f'Server: round {r}')\n",
    "            clients = self._sampleClients()\n",
    "            for c in clients:\n",
    "                log(f'Server: round {r} - client{c.k}')\n",
    "                c.client_update(self.weights)\n",
    "            \n",
    "            self.weights = self._fed_avg_aggregate(clients)"
   ]
  },
  {
   "cell_type": "code",
   "execution_count": 120,
   "metadata": {},
   "outputs": [],
   "source": [
    "class Server_LotteryFL(ServerBase):\n",
    "    def __init__(self, clients, model, hyper_params, X, y):\n",
    "        super().__init__(clients, model, hyper_params, X, y)\n",
    "    \n",
    "    def run(self):\n",
    "        for r in range(self.hyper_params['R']):\n",
    "            log(f'Server: round {r}')\n",
    "            clients = self._sampleClients()\n",
    "            for c in clients:\n",
    "                log(f'Server: round {r} - client{c.k}')\n",
    "                weights = unflatten_prunable(flatten_prunable(self.weights) * c.get_mask(), self.weights)\n",
    "                c.client_update(weights)\n",
    "            \n",
    "            self.weights = self._fed_avg_aggregate(clients) # revisit this approach to aggregation for LotteryFL"
   ]
  },
  {
   "cell_type": "code",
   "execution_count": 121,
   "metadata": {},
   "outputs": [],
   "source": [
    "# PROPOSAL: replace this simple FedAvg which one more appropriate for LotteryFL\n",
    "# OLD:\n",
    "# self.weights = self._fed_avg_aggregate(clients) # revisit this approach to aggregation for LotteryFL\n",
    "# NEW:\n",
    "#TODO: If accepted, clean up the code.\n",
    "class Server_LotteryFL(ServerBase):\n",
    "    def __init__(self, clients, model, hyper_params, X, y):\n",
    "        super().__init__(clients, model, hyper_params, X, y)\n",
    "    \n",
    "    def run(self):\n",
    "        for r in range(self.hyper_params['R']):\n",
    "            log(f'Server: round {r}')\n",
    "            clients = self._sampleClients()\n",
    "            for c in clients:\n",
    "                log(f'Server: round {r} - client{c.k}')\n",
    "                weights = unflatten_prunable(flatten_prunable(self.weights) * c.get_mask(), self.weights)\n",
    "                c.client_update(weights)\n",
    "            \n",
    "            sizes_weights = []\n",
    "            flat_g_weights = ServerBase._flatten(self.get_weights())            \n",
    "            for c in self.clients:\n",
    "                flat_c_weights = ServerBase._flatten(c.get_weights())\n",
    "                mask           = c.get_mask_extended()\n",
    "                sizes_weights.append((c.sample_size(), mask*flat_c_weights + (1 - mask)*flat_g_weights))\n",
    "                \n",
    "            self.weights = ServerBase._unflatten((1/self.n) * functools.reduce(operator.add,\n",
    "                                                                               [c[0] * c[1] for c in sizes_weights]),\n",
    "                                                 self.shapes)"
   ]
  },
  {
   "cell_type": "code",
   "execution_count": 19,
   "metadata": {},
   "outputs": [],
   "source": [
    "class Server_Genesis(ServerBase):\n",
    "    def __init__(self, clients, model, hyper_params, X, y):\n",
    "        super().__init__(clients, model, hyper_params, X, y)\n",
    "    \n",
    "    def run(self):\n",
    "        pass"
   ]
  },
  {
   "cell_type": "markdown",
   "metadata": {},
   "source": [
    "# Foreman\n",
    "\n",
    "* deals with parameters for the experiment to be run\n",
    "* loads the requested data\n",
    "* pick the right model for the data\n",
    "* creates the global model\n",
    "* creates the clients\n",
    "* creates the server\n",
    "\n",
    "## Foreman parameters\n",
    "The parameters are all grouped together, but different parameters are intended for different audiences.\n",
    "\n",
    "### experiment parameters\n",
    "Parameters which govern the experiment to be run.\n",
    "* <b>algo</b>:\n",
    "    * \"FedAvg\" for algorithm from McMahan et al.\n",
    "    * \"LotteryFL\" for algorithm from Li et al.\n",
    "    * \"Genesis\" for our modification.\n",
    "* <b>data</b>: The dataset to use. For now, this determins the NN model that will be used.\n",
    "    * \"MNIST_IID\"\n",
    "    * \"MNIST_NON-IID\"\n",
    "    * \"CIFAR10_IID\"\n",
    "    * \"CIFAR10_NON-IID\"\n",
    "* <b>K</b>: number of clients\n",
    "\n",
    "### client parameters\n",
    "Hyper parameters required for clients and server as specified in the articles by McMahan et al. and Li et al.\n",
    "\n",
    "* <b>E</b>: number of epochs clients will train in a single round\n",
    "* <b>B</b>: client minibatch size\n",
    "* <b>eta</b>: the learning rate\n",
    "* <b>acc_threshold</b>: the accuracy threshold required before pruning\n",
    "* <b>r_target</b>: the target pruning rate, between 0 and 1\n",
    "* <b>r_p</b>: the pruning rate to use on a given iteration, between 0 and 1\n",
    "\n",
    "### For Server\n",
    "Hyper parameters for the server.\n",
    "\n",
    "* <b>R</b>: number of rounds\n",
    "* <b>C</b>: the fraction of clients to run a round on (C=0 means 1 client)\n",
    "* <b>K</b>: number of clients"
   ]
  },
  {
   "cell_type": "code",
   "execution_count": 219,
   "metadata": {},
   "outputs": [],
   "source": [
    "class Foreman():\n",
    "    def __init__(self, params):\n",
    "        self.params = params\n",
    "        \n",
    "        # load data, initialize model_creator\n",
    "        if params['data'] == 'MNIST_IID':\n",
    "            (self.X_train, self.y_train), (self.X_test, self.y_test) = tf.keras.datasets.mnist.load_data()\n",
    "            self.model_creator = create_MNIST_model\n",
    "        else:\n",
    "            assert False, f\"Unsupported argument for data: {params['data']}\"\n",
    "        \n",
    "        # split data\n",
    "        partition = split_data((self.X_train, self.y_train), params['K'])\n",
    "        \n",
    "        # create global model\n",
    "        self.global_model          = self.model_creator()\n",
    "        self.initial_weights       = self.global_model.get_weights()\n",
    "\n",
    "        # handle clients\n",
    "        self.clients = []\n",
    "        for k in range(self.params['K']):\n",
    "            if params['algo'] == 'FedAvg':\n",
    "                self.clients.append(Client_FedAvg(k,\n",
    "                                                  self.model_creator,\n",
    "                                                  {key: params[key] for key in ('E', 'B', 'eta')},\n",
    "                                                  partition[k][0],\n",
    "                                                  partition[k][1]))\n",
    "            elif params['algo'] == 'LotteryFL':\n",
    "                self.clients.append(Client_LotteryFL(k,\n",
    "                                                     self.model_creator,\n",
    "                                                     self.initial_weights,\n",
    "                                                     {key: params[key] for key in ('E', 'B', 'eta', 'acc_threshold',\n",
    "                                                                                   'r_target', 'r_p')},\n",
    "                                                     partition[k][0],\n",
    "                                                     partition[k][1]))\n",
    "            else:\n",
    "                assert False, f\"Unsupported argument for algo: {params['algo']}\"\n",
    "\n",
    "        # handle server\n",
    "        if params['algo'] == 'FedAvg':\n",
    "            self.server = Server_FedAvg(self.clients, self.global_model,\n",
    "                                        {key: params[key] for key in ('R', 'C', 'K')},\n",
    "                                        self.X_train, self.y_train)\n",
    "        elif params['algo'] == 'LotteryFL':\n",
    "            self.server = Server_LotteryFL(self.clients, self.global_model,\n",
    "                                          {key: params[key] for key in ('R', 'C', 'K')},\n",
    "                                           self.X_train, self.y_train)\n",
    "        else:\n",
    "            self.server = Server_Genesis(self.clients, self.global_model,\n",
    "                                         {key: params[key] for key in ('R', 'C', 'K')},\n",
    "                                         self.X_train, self.y_train)\n",
    "        \n",
    "\n",
    "\n",
    "    def run(self):\n",
    "        print(\"Foreman: run with initial weights\")\n",
    "        self.global_model.evaluate(self.X_train, self.y_train)\n",
    "        \n",
    "        self.server.run()\n",
    "        print(\"Foreman: run with trained global model\")\n",
    "        self.global_model.set_weights(self.server.get_weights())\n",
    "        self.global_model.evaluate(self.X_train, self.y_train)\n",
    "        \n",
    "        # we evaluate final client and server model performance at this point\n",
    "        print(\"Foreman: rerun with initial weights\")\n",
    "        self.global_model.set_weights(self.initial_weights)\n",
    "        self.global_model.evaluate(self.X_train, self.y_train)"
   ]
  },
  {
   "cell_type": "markdown",
   "metadata": {},
   "source": [
    "# Experiment Handling"
   ]
  },
  {
   "cell_type": "code",
   "execution_count": 248,
   "metadata": {},
   "outputs": [],
   "source": [
    "def expand_experiment(dict):\n",
    "    exp = {}\n",
    "    for k, v in dict.items():\n",
    "        expand = False\n",
    "        if isinstance(v, list):\n",
    "            if isinstance(v[0], int):\n",
    "                exp[k] = list(np.linspace(v[0], v[1], v[2]).astype(int))\n",
    "            elif isinstance(v[0], float):\n",
    "                exp[k] = list(np.around(np.linspace(v[0], v[1], v[2]), 4))\n",
    "            else:\n",
    "                assert False, \"Experiments can only iterate over ints and floats.\"\n",
    "        else:\n",
    "            exp[k] = [v]\n",
    "\n",
    "    runs = []\n",
    "    for algo in exp['algo']:\n",
    "        for data in exp['data']:\n",
    "            for R in exp['R']:\n",
    "                for C in exp['C']:\n",
    "                    for K in exp['K']:\n",
    "                        for E in exp['E']:\n",
    "                            for B in exp['B']:\n",
    "                                for eta in exp['eta']:\n",
    "                                    runs.append({'algo': algo,\n",
    "                                                 'data': data,\n",
    "                                                  'R': R,\n",
    "                                                  'C': C,\n",
    "                                                  'K': K,\n",
    "                                                  'E': E,\n",
    "                                                  'B': B,\n",
    "                                                  'eta': eta})\n",
    "    return runs\n",
    "\n",
    "\n",
    "def run(dict):\n",
    "    experiments = expand_experiment(dict)\n",
    "    for exp in experiments:\n",
    "        print(exp)\n",
    "        fm = Foreman(exp)\n",
    "        fm.run()"
   ]
  },
  {
   "cell_type": "code",
   "execution_count": 21,
   "metadata": {},
   "outputs": [],
   "source": [
    "fm = Foreman({\n",
    "    'algo': 'FedAvg',\n",
    "    'data': 'MNIST_IID',\n",
    "    'R': 10,\n",
    "    'C': 1,\n",
    "    'K': 3,\n",
    "    'E': 4,\n",
    "    'B': 64,\n",
    "    'eta': 0.01 # currently unused\n",
    "    })"
   ]
  },
  {
   "cell_type": "code",
   "execution_count": 22,
   "metadata": {},
   "outputs": [
    {
     "name": "stdout",
     "output_type": "stream",
     "text": [
      "Foreman: run with initial weights\n",
      "32/32 [==============================] - 0s 750us/step - loss: 129.4162 - accuracy: 0.1050\n",
      "Foreman: run with trained global model\n",
      "32/32 [==============================] - 0s 781us/step - loss: 0.0360 - accuracy: 0.9920\n",
      "Foreman: rerun with initial weights\n",
      "32/32 [==============================] - 0s 687us/step - loss: 129.4162 - accuracy: 0.1050\n"
     ]
    }
   ],
   "source": [
    "fm.run()"
   ]
  },
  {
   "cell_type": "code",
   "execution_count": 23,
   "metadata": {},
   "outputs": [],
   "source": [
    "fm = Foreman({\n",
    "    'algo': 'LotteryFL',\n",
    "    'data': 'MNIST_IID',\n",
    "    'R': 10,\n",
    "    'C': 1,\n",
    "    'K': 3,\n",
    "    'E': 4,\n",
    "    'B': 64,\n",
    "    'eta': 0.01, # currently unused\n",
    "    'acc_threshold': .5,\n",
    "    'r_target': .25,\n",
    "    'r_p': .25\n",
    "    })"
   ]
  },
  {
   "cell_type": "code",
   "execution_count": 24,
   "metadata": {
    "scrolled": false
   },
   "outputs": [
    {
     "name": "stdout",
     "output_type": "stream",
     "text": [
      "Foreman: run with initial weights\n",
      "32/32 [==============================] - 0s 781us/step - loss: 162.7151 - accuracy: 0.0980\n",
      "Client: accuracy 0.09799999743700027, prune rate 0\n",
      "Client: accuracy 0.08799999952316284, prune rate 0\n",
      "Client: accuracy 0.06800000369548798, prune rate 0\n",
      "Client: accuracy 0.8859999775886536, prune rate 0\n",
      "Client is pruning.\n",
      "Client: accuracy 0.8659999966621399, prune rate 0\n",
      "Client is pruning.\n",
      "Client: accuracy 0.8939999938011169, prune rate 0\n",
      "Client is pruning.\n",
      "Client: accuracy 0.8880000114440918, prune rate 0.25\n",
      "Client: accuracy 0.875, prune rate 0.25\n",
      "Client: accuracy 0.8930000066757202, prune rate 0.25\n",
      "Client: accuracy 0.9240000247955322, prune rate 0.25\n",
      "Client: accuracy 0.9269999861717224, prune rate 0.25\n",
      "Client: accuracy 0.9359999895095825, prune rate 0.25\n",
      "Client: accuracy 0.9539999961853027, prune rate 0.25\n",
      "Client: accuracy 0.9459999799728394, prune rate 0.25\n",
      "Client: accuracy 0.9610000252723694, prune rate 0.25\n",
      "Client: accuracy 0.9670000076293945, prune rate 0.25\n",
      "Client: accuracy 0.9620000123977661, prune rate 0.25\n",
      "Client: accuracy 0.9710000157356262, prune rate 0.25\n",
      "Client: accuracy 0.9779999852180481, prune rate 0.25\n",
      "Client: accuracy 0.968999981880188, prune rate 0.25\n",
      "Client: accuracy 0.984000027179718, prune rate 0.25\n",
      "Client: accuracy 0.9890000224113464, prune rate 0.25\n",
      "Client: accuracy 0.9850000143051147, prune rate 0.25\n",
      "Client: accuracy 0.9869999885559082, prune rate 0.25\n",
      "Client: accuracy 0.9890000224113464, prune rate 0.25\n",
      "Client: accuracy 0.9919999837875366, prune rate 0.25\n",
      "Client: accuracy 0.9950000047683716, prune rate 0.25\n",
      "Client: accuracy 0.9959999918937683, prune rate 0.25\n",
      "Client: accuracy 0.996999979019165, prune rate 0.25\n",
      "Client: accuracy 0.996999979019165, prune rate 0.25\n",
      "Foreman: run with trained global model\n",
      "32/32 [==============================] - 0s 750us/step - loss: 0.1375 - accuracy: 0.9850\n",
      "Foreman: rerun with initial weights\n",
      "32/32 [==============================] - 0s 719us/step - loss: 162.7151 - accuracy: 0.0980\n"
     ]
    }
   ],
   "source": [
    "fm.run()"
   ]
  },
  {
   "cell_type": "code",
   "execution_count": null,
   "metadata": {},
   "outputs": [],
   "source": [
    "fm = Foreman({\n",
    "    'algo': 'LotteryFL',\n",
    "    'data': 'MNIST_IID',\n",
    "    'R': 10,\n",
    "    'C': 1,\n",
    "    'K': 3,\n",
    "    'E': 4,\n",
    "    'B': 64,\n",
    "    'eta': 0.01, # currently unused\n",
    "    'acc_threshold': .5,\n",
    "    'r_target': .25,\n",
    "    'r_p': .25\n",
    "    })"
   ]
  },
  {
   "cell_type": "markdown",
   "metadata": {},
   "source": [
    "# Dev Zone"
   ]
  },
  {
   "cell_type": "markdown",
   "metadata": {},
   "source": [
    "## get_weights\n",
    "\n",
    "* returns a copy of the models weights (not a view)\n",
    "  * getting the weights, and then modifying them does not change the models weights\n",
    "* np.reshape() returns a view\n",
    "  * modifying the reshaped array changes values in the original array"
   ]
  },
  {
   "cell_type": "code",
   "execution_count": 233,
   "metadata": {},
   "outputs": [],
   "source": [
    "def create_MNIST_model():\n",
    "    small = tf.keras.models.Sequential([\n",
    "    tf.keras.layers.Flatten(input_shape=(4, 1)),\n",
    "    tf.keras.layers.Dense(3,activation='relu'),\n",
    "    tf.keras.layers.Dense(1, activation='sigmoid')])\n",
    "    \n",
    "    small.compile(loss='sparse_categorical_crossentropy',\n",
    "                     optimizer=tf.keras.optimizers.Adam(0.001),\n",
    "                     metrics=['accuracy'])\n",
    "    return small"
   ]
  },
  {
   "cell_type": "code",
   "execution_count": 237,
   "metadata": {},
   "outputs": [],
   "source": [
    "small = create_MNIST_model()\n",
    "w1 = small.get_weights()\n",
    "small = create_MNIST_model()\n",
    "w2 = small.get_weights()"
   ]
  },
  {
   "cell_type": "code",
   "execution_count": 235,
   "metadata": {},
   "outputs": [
    {
     "name": "stdout",
     "output_type": "stream",
     "text": [
      "Model: \"sequential_119\"\n",
      "_________________________________________________________________\n",
      "Layer (type)                 Output Shape              Param #   \n",
      "=================================================================\n",
      "flatten_119 (Flatten)        (None, 4)                 0         \n",
      "_________________________________________________________________\n",
      "dense_246 (Dense)            (None, 3)                 15        \n",
      "_________________________________________________________________\n",
      "dense_247 (Dense)            (None, 1)                 4         \n",
      "=================================================================\n",
      "Total params: 19\n",
      "Trainable params: 19\n",
      "Non-trainable params: 0\n",
      "_________________________________________________________________\n"
     ]
    }
   ],
   "source": [
    "small.summary()"
   ]
  },
  {
   "cell_type": "code",
   "execution_count": 236,
   "metadata": {},
   "outputs": [
    {
     "name": "stdout",
     "output_type": "stream",
     "text": [
      "[array([[ 0.17254543, -0.0792715 , -0.06162965],\n",
      "       [-0.8082738 ,  0.6968483 ,  0.7035241 ],\n",
      "       [-0.47015384, -0.27038056, -0.0319612 ],\n",
      "       [ 0.54134417, -0.7661829 ,  0.6768354 ]], dtype=float32), array([0., 0., 0.], dtype=float32), array([[-0.58530414],\n",
      "       [-0.01651156],\n",
      "       [ 0.20637381]], dtype=float32), array([0.], dtype=float32)]\n"
     ]
    }
   ],
   "source": [
    "print(small.get_weights())"
   ]
  },
  {
   "cell_type": "code",
   "execution_count": 27,
   "metadata": {},
   "outputs": [
    {
     "name": "stdout",
     "output_type": "stream",
     "text": [
      "flatten_9\n",
      "[]\n",
      "dense_18\n",
      "[array([[ 0.2721634 , -0.7472533 , -0.749786  ],\n",
      "       [ 0.22996092,  0.10714316,  0.77423966],\n",
      "       [-0.05542952, -0.68133324, -0.0448913 ],\n",
      "       [ 0.8466245 , -0.18048984, -0.5477376 ]], dtype=float32), array([0., 0., 0.], dtype=float32)]\n",
      "dense_19\n",
      "[array([[-0.94444585],\n",
      "       [ 0.58059597],\n",
      "       [ 0.80115783]], dtype=float32), array([0.], dtype=float32)]\n"
     ]
    }
   ],
   "source": [
    "for l in small.layers:\n",
    "    print(l.name)\n",
    "    print(l.get_weights())"
   ]
  },
  {
   "cell_type": "code",
   "execution_count": 238,
   "metadata": {},
   "outputs": [
    {
     "name": "stdout",
     "output_type": "stream",
     "text": [
      "[array([[ 0.0665496 ,  0.29469514,  0.6695316 ],\n",
      "       [ 0.5417086 ,  0.22732794, -0.62357455],\n",
      "       [ 0.0511561 ,  0.702634  , -0.6886611 ],\n",
      "       [ 0.88815427,  0.5211091 ,  0.30948365]], dtype=float32), array([0., 0., 0.], dtype=float32), array([[ 0.31030083],\n",
      "       [-0.5062242 ],\n",
      "       [-0.47649813]], dtype=float32), array([0.], dtype=float32)] \n",
      "\n",
      " [array([[ 0.8556472 ,  0.42359066, -0.7557968 ],\n",
      "       [-0.6710422 ,  0.2830696 , -0.05207503],\n",
      "       [-0.5654651 ,  0.88744247, -0.14415038],\n",
      "       [ 0.609658  , -0.6553073 ,  0.11074495]], dtype=float32), array([0., 0., 0.], dtype=float32), array([[0.45865822],\n",
      "       [0.20319712],\n",
      "       [0.46475327]], dtype=float32), array([0.], dtype=float32)]\n"
     ]
    }
   ],
   "source": [
    "print(w1, \"\\n\\n\", w2)"
   ]
  },
  {
   "cell_type": "code",
   "execution_count": 29,
   "metadata": {},
   "outputs": [],
   "source": [
    "def flatten(weights):\n",
    "    return np.concatenate([layer.reshape(1,-1) for layer in weights], axis=1)\n",
    "\n",
    "def unflatten(weights, shapes):\n",
    "    curr_offset = 0\n",
    "    result      = []\n",
    "    \n",
    "    for s in shapes:\n",
    "        count = np.prod(s)\n",
    "        result.append(weights[0, curr_offset:curr_offset+count].reshape(s))\n",
    "        curr_offset += count\n",
    "    return result"
   ]
  },
  {
   "cell_type": "code",
   "execution_count": 240,
   "metadata": {},
   "outputs": [],
   "source": [
    "f1 = flatten(w1)\n",
    "f2 = flatten(w2)"
   ]
  },
  {
   "cell_type": "code",
   "execution_count": 241,
   "metadata": {},
   "outputs": [
    {
     "name": "stdout",
     "output_type": "stream",
     "text": [
      "[[ 0.0665496   0.29469514  0.6695316   0.5417086   0.22732794 -0.62357455\n",
      "   0.0511561   0.702634   -0.6886611   0.88815427  0.5211091   0.30948365\n",
      "   0.          0.          0.          0.31030083 -0.5062242  -0.47649813\n",
      "   0.        ]]\n",
      "[[ 0.8556472   0.42359066 -0.7557968  -0.6710422   0.2830696  -0.05207503\n",
      "  -0.5654651   0.88744247 -0.14415038  0.609658   -0.6553073   0.11074495\n",
      "   0.          0.          0.          0.45865822  0.20319712  0.46475327\n",
      "   0.        ]]\n",
      "[[ 0.9221968   0.7182858  -0.08626521 -0.12933362  0.51039755 -0.6756496\n",
      "  -0.514309    1.5900764  -0.8328115   1.4978123  -0.13419819  0.4202286\n",
      "   0.          0.          0.          0.76895905 -0.3030271  -0.01174486\n",
      "   0.        ]]\n"
     ]
    }
   ],
   "source": [
    "print(f1)\n",
    "print(f2)\n",
    "print((f1 + f2))\n",
    "s1 = (f1 + f2)"
   ]
  },
  {
   "cell_type": "code",
   "execution_count": 32,
   "metadata": {},
   "outputs": [],
   "source": [
    "uf1 = unflatten(f1, [layer.shape for layer in w1])\n",
    "uf2 = unflatten(f1, [layer.shape for layer in w2])"
   ]
  },
  {
   "cell_type": "code",
   "execution_count": 33,
   "metadata": {},
   "outputs": [
    {
     "name": "stdout",
     "output_type": "stream",
     "text": [
      "[array([[ 0.8949822 ,  0.8161237 ,  0.91389   ],\n",
      "       [ 0.27480912,  0.0522331 , -0.7874019 ],\n",
      "       [-0.82874143, -0.07225156, -0.24778724],\n",
      "       [ 0.2698859 , -0.8677456 , -0.7338054 ]], dtype=float32), array([0., 0., 0.], dtype=float32), array([[ 0.6754428],\n",
      "       [ 1.0323585],\n",
      "       [-0.431778 ]], dtype=float32), array([0.], dtype=float32)]\n",
      "[array([[ 0.8949822 ,  0.8161237 ,  0.91389   ],\n",
      "       [ 0.27480912,  0.0522331 , -0.7874019 ],\n",
      "       [-0.82874143, -0.07225156, -0.24778724],\n",
      "       [ 0.2698859 , -0.8677456 , -0.7338054 ]], dtype=float32), array([0., 0., 0.], dtype=float32), array([[ 0.6754428],\n",
      "       [ 1.0323585],\n",
      "       [-0.431778 ]], dtype=float32), array([0.], dtype=float32)]\n"
     ]
    }
   ],
   "source": [
    "print(uf1)\n",
    "print(uf2)"
   ]
  },
  {
   "cell_type": "markdown",
   "metadata": {},
   "source": [
    "## Pruning Dev"
   ]
  },
  {
   "cell_type": "code",
   "execution_count": 34,
   "metadata": {},
   "outputs": [],
   "source": [
    "# don't prune biases\n",
    "# flatten before, unflatten afterwards\n",
    "# r_p should be between 0 and 1\n",
    "# returns new mask\n",
    "def prune(weights, mask, r_p):\n",
    "    print(weights)\n",
    "    alive = weights[np.nonzero(weights*mask)] # flattened array of nonzero values\n",
    "    print('alive before: ', alive.shape[0])\n",
    "    \n",
    "    percentile_value = np.percentile(abs(alive), r_p*100)\n",
    "    print(\"Cutoff: \", percentile_value)\n",
    "\n",
    "    new_mask = np.where(abs(weights) < percentile_value, 0, mask)\n",
    "    print('Alive after', np.count_nonzero(new_mask))\n",
    "    print('% pruned:', (alive.shape[0] - np.count_nonzero(new_mask))/alive.shape[0])\n",
    "    print(\"New mask 1:\\n\", new_mask)\n",
    "    print(\"Masked weights:\\n\", weights * new_mask)\n",
    "    return new_mask"
   ]
  },
  {
   "cell_type": "code",
   "execution_count": 35,
   "metadata": {},
   "outputs": [
    {
     "name": "stdout",
     "output_type": "stream",
     "text": [
      "Prune 25%:\n",
      "[[ 0.89  0.82  0.91]\n",
      " [ 0.27  0.05 -0.79]\n",
      " [-0.83 -0.07 -0.25]\n",
      " [ 0.27 -0.87 -0.73]]\n",
      "alive before:  12\n",
      "Cutoff:  0.26500000804662704\n",
      "Alive after 9\n",
      "% pruned: 0.25\n",
      "New mask 1:\n",
      " [[1. 1. 1.]\n",
      " [1. 0. 1.]\n",
      " [1. 0. 0.]\n",
      " [1. 1. 1.]]\n",
      "Masked weights:\n",
      " [[ 0.88999999  0.81999999  0.91000003]\n",
      " [ 0.27000001  0.         -0.79000002]\n",
      " [-0.82999998 -0.         -0.        ]\n",
      " [ 0.27000001 -0.87       -0.73000002]]\n",
      "Prune 33%:\n",
      "[[ 0.89  0.82  0.91]\n",
      " [ 0.27  0.05 -0.79]\n",
      " [-0.83 -0.07 -0.25]\n",
      " [ 0.27 -0.87 -0.73]]\n",
      "alive before:  9\n",
      "Cutoff:  0.7684000205993653\n",
      "Alive after 6\n",
      "% pruned: 0.3333333333333333\n",
      "New mask 1:\n",
      " [[1. 1. 1.]\n",
      " [0. 0. 1.]\n",
      " [1. 0. 0.]\n",
      " [0. 1. 0.]]\n",
      "Masked weights:\n",
      " [[ 0.88999999  0.81999999  0.91000003]\n",
      " [ 0.          0.         -0.79000002]\n",
      " [-0.82999998 -0.         -0.        ]\n",
      " [ 0.         -0.87       -0.        ]]\n"
     ]
    }
   ],
   "source": [
    "w1p = np.around(w1[0], 2)\n",
    "m1 = np.ones(w1p.shape)\n",
    "print('Prune 25%:')\n",
    "m2 = prune(w1p, m1, 0.25)\n",
    "print('Prune 33%:')\n",
    "m3 = prune(w1p, m2, 0.33)\n"
   ]
  },
  {
   "cell_type": "markdown",
   "metadata": {},
   "source": [
    "## pruning only weights, not biases\n",
    "\n",
    "When running FedAvg we need to flatten all parameters and take the average. But, when pruning, we need to flatten just the weights, not the biases. This makes for a complicated flatten/unflatten."
   ]
  },
  {
   "cell_type": "code",
   "execution_count": 36,
   "metadata": {},
   "outputs": [],
   "source": [
    "# A heuristic is used where by if the dimension of a tensor is 1, then we assume it is a bias tensor.\n",
    "# If this assumption does not hold for a certain layer type, we will likely have to pass a model in\n",
    "# rather than orig_weights.\n",
    "def _flatten_prunable(weights):\n",
    "    return np.concatenate([layer.reshape(1,-1) for layer in weights if layer.ndim > 1], axis=1)\n",
    "\n",
    "\n",
    "def _unflatten_prunable(flattened, orig_weights):\n",
    "    curr_offset = 0\n",
    "    result      = []\n",
    "\n",
    "    for layer in orig_weights:\n",
    "        if layer.ndim > 1:\n",
    "            count = np.prod(layer.shape)\n",
    "            result.append(flattened[0, curr_offset:curr_offset+count].reshape(layer.shape))\n",
    "            curr_offset += count\n",
    "        else:\n",
    "            result.append(layer)\n",
    "            \n",
    "    return result"
   ]
  },
  {
   "cell_type": "code",
   "execution_count": 37,
   "metadata": {},
   "outputs": [
    {
     "name": "stdout",
     "output_type": "stream",
     "text": [
      "True\n",
      "True\n",
      "True\n",
      "True\n"
     ]
    }
   ],
   "source": [
    "w1p = _unflatten_prunable(_flatten_prunable(w1), w1)\n",
    "\n",
    "for l in range(len(w1)):\n",
    "    print(np.array_equal(w1[l], w1p[l]))\n",
    "    "
   ]
  },
  {
   "cell_type": "code",
   "execution_count": 38,
   "metadata": {},
   "outputs": [
    {
     "name": "stdout",
     "output_type": "stream",
     "text": [
      "[array([[ 0.8949822 ,  0.8161237 ,  0.91389   ],\n",
      "       [ 0.27480912,  0.0522331 , -0.7874019 ],\n",
      "       [-0.82874143, -0.07225156, -0.24778724],\n",
      "       [ 0.2698859 , -0.8677456 , -0.7338054 ]], dtype=float32), array([0., 0., 0.], dtype=float32), array([[ 0.6754428],\n",
      "       [ 1.0323585],\n",
      "       [-0.431778 ]], dtype=float32), array([0.], dtype=float32)]\n",
      "[[ 0.8949822   0.8161237   0.91389     0.27480912  0.0522331  -0.7874019\n",
      "  -0.82874143 -0.07225156 -0.24778724  0.2698859  -0.8677456  -0.7338054\n",
      "   0.6754428   1.0323585  -0.431778  ]]\n",
      "[[ 0.          0.81612372  0.91389     0.27480912  0.0522331  -0.78740191\n",
      "  -0.82874143 -0.07225156 -0.24778724  0.2698859  -0.86774558 -0.73380542\n",
      "   0.67544281  1.03235853 -0.        ]]\n",
      "[array([[ 0.        ,  0.81612372,  0.91389   ],\n",
      "       [ 0.27480912,  0.0522331 , -0.78740191],\n",
      "       [-0.82874143, -0.07225156, -0.24778724],\n",
      "       [ 0.2698859 , -0.86774558, -0.73380542]]), array([0., 0., 0.], dtype=float32), array([[ 0.67544281],\n",
      "       [ 1.03235853],\n",
      "       [-0.        ]]), array([0.], dtype=float32)]\n"
     ]
    }
   ],
   "source": [
    "print(w1)\n",
    "f1 = _flatten_prunable(w1)\n",
    "print(f1)\n",
    "m = np.ones(f1.shape)\n",
    "m[0,0] = 0\n",
    "m[0,14] = 0\n",
    "print(f1 * m)\n",
    "w1fu = _unflatten_prunable(f1 * m, w1)\n",
    "print(w1fu)"
   ]
  },
  {
   "cell_type": "code",
   "execution_count": 39,
   "metadata": {},
   "outputs": [
    {
     "data": {
      "text/plain": [
       "[array([[ 0.        ,  0.81612372,  0.91389   ],\n",
       "        [ 0.27480912,  0.0522331 , -0.78740191],\n",
       "        [-0.82874143, -0.07225156, -0.24778724],\n",
       "        [ 0.2698859 , -0.86774558, -0.73380542]]),\n",
       " array([0., 0., 0.], dtype=float32),\n",
       " array([[ 0.67544281],\n",
       "        [ 1.03235853],\n",
       "        [-0.        ]]),\n",
       " array([0.], dtype=float32)]"
      ]
     },
     "execution_count": 39,
     "metadata": {},
     "output_type": "execute_result"
    }
   ],
   "source": [
    "_unflatten_prunable(_flatten_prunable(w1) * m, w1)"
   ]
  },
  {
   "cell_type": "code",
   "execution_count": 40,
   "metadata": {},
   "outputs": [],
   "source": [
    "# don't prune biases\n",
    "# flatten before, unflatten afterwards\n",
    "# r_p should be between 0 and 1\n",
    "# returns new mask\n",
    "def prune(weights, mask, r_p):\n",
    "    print(weights)\n",
    "    alive = weights[np.nonzero(weights*mask)] # flattened array of nonzero values\n",
    "    print('alive before: ', alive.shape[0])\n",
    "    \n",
    "    percentile_value = np.percentile(abs(alive), r_p*100)\n",
    "    print(\"Cutoff: \", percentile_value)\n",
    "\n",
    "    new_mask = np.where(abs(weights) < percentile_value, 0, mask)\n",
    "    print('Alive after', np.count_nonzero(new_mask))\n",
    "    print('% pruned:', (alive.shape[0] - np.count_nonzero(new_mask))/alive.shape[0])\n",
    "    print(\"New mask 1:\\n\", new_mask)\n",
    "    print(\"Masked weights:\\n\", weights * new_mask)\n",
    "    return new_mask"
   ]
  },
  {
   "cell_type": "code",
   "execution_count": 41,
   "metadata": {},
   "outputs": [
    {
     "name": "stdout",
     "output_type": "stream",
     "text": [
      "Prune 33%:\n",
      "[[ 0.8949822   0.8161237   0.91389     0.27480912  0.0522331  -0.7874019\n",
      "  -0.82874143 -0.07225156 -0.24778724  0.2698859  -0.8677456  -0.7338054\n",
      "   0.6754428   1.0323585  -0.431778  ]]\n",
      "alive before:  15\n",
      "Cutoff:  0.3721298348903656\n",
      "Alive after 10\n",
      "% pruned: 0.3333333333333333\n",
      "New mask 1:\n",
      " [[1. 1. 1. 0. 0. 1. 1. 0. 0. 0. 1. 1. 1. 1. 1.]]\n",
      "Masked weights:\n",
      " [[ 0.89498222  0.81612372  0.91389     0.          0.         -0.78740191\n",
      "  -0.82874143 -0.         -0.          0.         -0.86774558 -0.73380542\n",
      "   0.67544281  1.03235853 -0.43177801]]\n",
      "Prune 20%:\n",
      "[[ 0.8949822   0.8161237   0.91389     0.27480912  0.0522331  -0.7874019\n",
      "  -0.82874143 -0.07225156 -0.24778724  0.2698859  -0.8677456  -0.7338054\n",
      "   0.6754428   1.0323585  -0.431778  ]]\n",
      "alive before:  10\n",
      "Cutoff:  0.7221328973770141\n",
      "Alive after 8\n",
      "% pruned: 0.2\n",
      "New mask 1:\n",
      " [[1. 1. 1. 0. 0. 1. 1. 0. 0. 0. 1. 1. 0. 1. 0.]]\n",
      "Masked weights:\n",
      " [[ 0.89498222  0.81612372  0.91389     0.          0.         -0.78740191\n",
      "  -0.82874143 -0.         -0.          0.         -0.86774558 -0.73380542\n",
      "   0.          1.03235853 -0.        ]]\n"
     ]
    },
    {
     "data": {
      "text/plain": [
       "[array([[ 0.89498222,  0.81612372,  0.91389   ],\n",
       "        [ 0.        ,  0.        , -0.78740191],\n",
       "        [-0.82874143, -0.        , -0.        ],\n",
       "        [ 0.        , -0.86774558, -0.73380542]]),\n",
       " array([0., 0., 0.], dtype=float32),\n",
       " array([[ 0.        ],\n",
       "        [ 1.03235853],\n",
       "        [-0.        ]]),\n",
       " array([0.], dtype=float32)]"
      ]
     },
     "execution_count": 41,
     "metadata": {},
     "output_type": "execute_result"
    }
   ],
   "source": [
    "f1 = _flatten_prunable(w1)\n",
    "m1 = np.ones(f1.shape)\n",
    "print('Prune 33%:')\n",
    "m2 = prune(f1, m1, 0.33)\n",
    "print('Prune 20%:')\n",
    "m3 = prune(f1, m2, 0.20)\n",
    "_unflatten_prunable(f1 * m3, w1)"
   ]
  },
  {
   "cell_type": "code",
   "execution_count": 42,
   "metadata": {},
   "outputs": [
    {
     "name": "stdout",
     "output_type": "stream",
     "text": [
      "[[ 0.8949822   0.8161237   0.91389     0.27480912  0.0522331  -0.7874019\n",
      "  -0.82874143 -0.07225156 -0.24778724  0.2698859  -0.8677456  -0.7338054\n",
      "   0.6754428   1.0323585  -0.431778  ]]\n",
      "alive before:  15\n",
      "Cutoff:  0.3721298348903656\n",
      "Alive after 10\n",
      "% pruned: 0.3333333333333333\n",
      "New mask 1:\n",
      " [[1. 1. 1. 0. 0. 1. 1. 0. 0. 0. 1. 1. 1. 1. 1.]]\n",
      "Masked weights:\n",
      " [[ 0.89498222  0.81612372  0.91389     0.          0.         -0.78740191\n",
      "  -0.82874143 -0.         -0.          0.         -0.86774558 -0.73380542\n",
      "   0.67544281  1.03235853 -0.43177801]]\n"
     ]
    },
    {
     "data": {
      "text/plain": [
       "[array([[ 0.89498222,  0.81612372,  0.91389   ],\n",
       "        [ 0.        ,  0.        , -0.78740191],\n",
       "        [-0.82874143, -0.        , -0.        ],\n",
       "        [ 0.        , -0.86774558, -0.73380542]]),\n",
       " array([0., 0., 0.], dtype=float32),\n",
       " array([[ 0.67544281],\n",
       "        [ 1.03235853],\n",
       "        [-0.43177801]]),\n",
       " array([0.], dtype=float32)]"
      ]
     },
     "execution_count": 42,
     "metadata": {},
     "output_type": "execute_result"
    }
   ],
   "source": [
    "m1 = np.ones(f1.shape)\n",
    "m2 = prune(_flatten_prunable(w1), m1, 0.33)\n",
    "w1fu = _unflatten_prunable(f1 * m2, w1)\n",
    "w1fu"
   ]
  },
  {
   "cell_type": "markdown",
   "metadata": {},
   "source": [
    "## Aggregation Dev"
   ]
  },
  {
   "cell_type": "code",
   "execution_count": 80,
   "metadata": {},
   "outputs": [],
   "source": [
    "f0 = np.array([1, 0, 2, 4, 3, 1, 0, 2, 2, 2, 3]).reshape(1,-1)\n",
    "f1 = np.array([1, 1, 0, 0, 2, 2, 0, 0, 0, 3, 3]).reshape(1,-1)\n",
    "m1 = np.where(f1 != 0, 1, 0)\n",
    "f2 = np.array([1, 1, 0, 0, 1, 1, 1, 1, 0, 0, 0]).reshape(1,-1)\n",
    "m2 = np.where(f2 != 0, 1, 0)\n",
    "f3 = np.array([0, 0, 4, 4, 2, 2, 0, 0, 0, 3, 3]).reshape(1,-1)\n",
    "m3 = np.where(f3 != 0, 1, 0)"
   ]
  },
  {
   "cell_type": "code",
   "execution_count": 128,
   "metadata": {},
   "outputs": [
    {
     "name": "stdout",
     "output_type": "stream",
     "text": [
      "f0: [[1 0 2 4 3 1 0 2 2 2 3]]\n",
      "\n",
      "f1: [[1 1 0 0 2 2 0 0 0 3 3]]\n",
      "m1: [[1 1 0 0 1 1 0 0 0 1 1]]\n",
      "\n",
      "f2: [[1 1 0 0 1 1 1 1 0 0 0]]\n",
      "m2: [[1 1 0 0 1 1 1 1 0 0 0]]\n",
      "\n",
      "f3: [[0 0 4 4 2 2 0 0 0 3 3]]\n",
      "m3: [[0 0 1 1 1 1 0 0 0 1 1]]\n"
     ]
    }
   ],
   "source": [
    "print('f0:', f0)\n",
    "print()\n",
    "print('f1:', f1)\n",
    "print('m1:', m1)\n",
    "print()\n",
    "print('f2:', f2)\n",
    "print('m2:', m2)\n",
    "print()\n",
    "print('f3:', f3)\n",
    "print('m3:', m3)"
   ]
  },
  {
   "cell_type": "code",
   "execution_count": 106,
   "metadata": {},
   "outputs": [
    {
     "data": {
      "text/plain": [
       "array([[0.8, 0.8, 0.8, 0.8, 1.8, 1.8, 0.2, 0.2, 0. , 2.4, 2.4]])"
      ]
     },
     "execution_count": 106,
     "metadata": {},
     "output_type": "execute_result"
    }
   ],
   "source": [
    "def fed_avg_aggregate(clients, n):\n",
    "    return (1/n) * functools.reduce(operator.add,\n",
    "                                      [c[0] * c[1] for c in clients])\n",
    "\n",
    "clts = [\n",
    "    (150, f1),\n",
    "    (50, f2),\n",
    "    (50, f3),\n",
    "]\n",
    "result1 = fed_avg_aggregate(clts, 250)\n",
    "np.around(result1, 2)"
   ]
  },
  {
   "cell_type": "code",
   "execution_count": 132,
   "metadata": {},
   "outputs": [
    {
     "data": {
      "text/plain": [
       "False"
      ]
     },
     "execution_count": 132,
     "metadata": {},
     "output_type": "execute_result"
    }
   ],
   "source": [
    "np.array_equal(result1, result2)"
   ]
  },
  {
   "cell_type": "markdown",
   "metadata": {},
   "source": [
    "### LotteryFL Modification\n",
    "\n",
    "If a weight is masked out, it shouldn't contribute to the FedAvg as it was not trained. So, to compute FedAvg, we set a client's masked out weight to the global model's weight. Of course, this happens on the server and doesn't actually mess with the client's real weights."
   ]
  },
  {
   "cell_type": "code",
   "execution_count": 130,
   "metadata": {},
   "outputs": [
    {
     "name": "stdout",
     "output_type": "stream",
     "text": [
      "[array([[1, 1, 2, 4, 2, 2, 0, 2, 2, 3, 3]]), array([[1, 1, 2, 4, 1, 1, 1, 1, 2, 2, 3]]), array([[1, 0, 4, 4, 2, 2, 0, 2, 2, 3, 3]])]\n",
      "[[1.  0.8 2.4 4.  1.8 1.8 0.2 1.8 2.  2.8 3. ]]\n",
      "[[1.  0.8 2.4 4.  1.8 1.8 0.2 1.8 2.  2.8 3. ]]\n",
      "[[0.8 0.8 0.8 0.8 1.8 1.8 0.2 0.2 0.  2.4 2.4]]\n"
     ]
    }
   ],
   "source": [
    "weights = [m1*f1 + (1 - m1)*f0, m2*f2 + (1 - m2)*f0, m3*f3 + (1 - m3)*f0]\n",
    "sizes   = np.array([150, 50, 50])\n",
    "result3 = fed_avg_aggregate(zip(sizes, weights), sizes.sum())\n",
    "print(weights)\n",
    "print(np.around(result3, 2))\n",
    "print(np.around(result2, 2))\n",
    "print(np.around(result1, 2))"
   ]
  },
  {
   "cell_type": "code",
   "execution_count": 129,
   "metadata": {},
   "outputs": [
    {
     "name": "stdout",
     "output_type": "stream",
     "text": [
      "[array([[1, 1, 2, 4, 2, 2, 0, 2, 2, 3, 3]]), array([[1, 1, 2, 4, 1, 1, 1, 1, 2, 2, 3]]), array([[1, 0, 4, 4, 2, 2, 0, 2, 2, 3, 3]])]\n",
      "[[1.  0.8 2.4 4.  1.8 1.8 0.2 1.8 2.  2.8 3. ]]\n",
      "[[0.8 0.8 0.8 0.8 1.8 1.8 0.2 0.2 0.  2.4 2.4]]\n"
     ]
    }
   ],
   "source": [
    "weights = [m1*f1 + (1 - m1)*f0, m2*f2 + (1 - m2)*f0, m3*f3 + (1 - m3)*f0]\n",
    "sizes   = np.array([150, 50, 50])\n",
    "ones    = np.ones(f1.shape)\n",
    "masks   = [ones, ones, ones]\n",
    "result2 = LotteryFL_aggregate1(zip(weights, sizes, masks), sizes.sum())\n",
    "print(weights)\n",
    "print(np.around(result2, 2))\n",
    "print(np.around(result1, 2))"
   ]
  },
  {
   "cell_type": "code",
   "execution_count": 73,
   "metadata": {},
   "outputs": [
    {
     "data": {
      "text/plain": [
       "array([6, 6, 6])"
      ]
     },
     "execution_count": 73,
     "metadata": {},
     "output_type": "execute_result"
    }
   ],
   "source": [
    "ms.sum(axis=0)"
   ]
  },
  {
   "cell_type": "code",
   "execution_count": 74,
   "metadata": {},
   "outputs": [
    {
     "data": {
      "text/plain": [
       "array([[12,  6, 10],\n",
       "       [ 4,  6,  2],\n",
       "       [10,  4, 18]])"
      ]
     },
     "execution_count": 74,
     "metadata": {},
     "output_type": "execute_result"
    }
   ],
   "source": [
    "fs @ ms"
   ]
  },
  {
   "cell_type": "code",
   "execution_count": 187,
   "metadata": {},
   "outputs": [],
   "source": [
    "def get_mask_extended(c):\n",
    "    curr_offset = 0\n",
    "    result      = []\n",
    "\n",
    "    for layer in self.model.get_weights():\n",
    "        if layer.ndim > 1:\n",
    "            count = np.prod(layer.shape)\n",
    "            result.extend(self.mask[0, curr_offset:curr_offset+count])\n",
    "            curr_offset += count\n",
    "        else:\n",
    "            result.extend(np.ones(layer.size))\n",
    "    return result"
   ]
  },
  {
   "cell_type": "code",
   "execution_count": 200,
   "metadata": {},
   "outputs": [],
   "source": [
    "c1 = Client_LotteryFL(1,\n",
    "                      create_MNIST_model,\n",
    "                      create_MNIST_model().get_weights(),\n",
    "                      {},\n",
    "                      X_train[:1000, :], y_train[:1000])"
   ]
  },
  {
   "cell_type": "code",
   "execution_count": 201,
   "metadata": {},
   "outputs": [
    {
     "data": {
      "text/plain": [
       "array([1, 1, 1, ..., 1, 1, 1])"
      ]
     },
     "execution_count": 201,
     "metadata": {},
     "output_type": "execute_result"
    }
   ],
   "source": [
    "c1.get_mask_extended()"
   ]
  },
  {
   "cell_type": "markdown",
   "metadata": {},
   "source": [
    "## JSON"
   ]
  },
  {
   "cell_type": "code",
   "execution_count": 210,
   "metadata": {},
   "outputs": [],
   "source": [
    "str = '''{\n",
    "    \"algo\": \"FedAvg\",\n",
    "    \"data\": \"MNIST_IID\",\n",
    "    \"R\": 2,\n",
    "    \"C\": 0.5,\n",
    "    \"K\": [2, 7, 2],\n",
    "    \"E\": [4, 42, 37],\n",
    "    \"B\": 64,\n",
    "    \"eta\": 0.01 \n",
    "    }'''"
   ]
  },
  {
   "cell_type": "code",
   "execution_count": 172,
   "metadata": {},
   "outputs": [
    {
     "data": {
      "text/plain": [
       "[2, 4, 6, 8, 10]"
      ]
     },
     "execution_count": 172,
     "metadata": {},
     "output_type": "execute_result"
    }
   ],
   "source": [
    "list(range(2, 11, 2))"
   ]
  },
  {
   "cell_type": "code",
   "execution_count": 211,
   "metadata": {},
   "outputs": [
    {
     "data": {
      "text/plain": [
       "{'algo': 'FedAvg',\n",
       " 'data': 'MNIST_IID',\n",
       " 'R': 2,\n",
       " 'C': 0.5,\n",
       " 'K': [2, 7, 2],\n",
       " 'E': [4, 42, 37],\n",
       " 'B': 64,\n",
       " 'eta': 0.01}"
      ]
     },
     "execution_count": 211,
     "metadata": {},
     "output_type": "execute_result"
    }
   ],
   "source": [
    "d = json.loads(str)\n",
    "d"
   ]
  },
  {
   "cell_type": "code",
   "execution_count": 198,
   "metadata": {},
   "outputs": [
    {
     "data": {
      "text/plain": [
       "{'algo': ['FedAvg'],\n",
       " 'data': ['MNIST_IID'],\n",
       " 'R': [2],\n",
       " 'C': [0.5],\n",
       " 'K': [2, 4, 6, 8, 10],\n",
       " 'E': [4],\n",
       " 'B': [64],\n",
       " 'eta': [0.01]}"
      ]
     },
     "execution_count": 198,
     "metadata": {},
     "output_type": "execute_result"
    }
   ],
   "source": [
    "dd"
   ]
  },
  {
   "cell_type": "code",
   "execution_count": 202,
   "metadata": {},
   "outputs": [],
   "source": [
    "def expand_experiment(exp):\n",
    "    runs = []\n",
    "    for algo in exp['algo']:\n",
    "        for data in exp['data']:\n",
    "            for R in exp['R']:\n",
    "                for C in exp['C']:\n",
    "                    for K in exp['K']:\n",
    "                        for E in exp['E']:\n",
    "                            for B in exp['B']:\n",
    "                                for eta in exp['eta']:\n",
    "                                    runs.append({'algo': algo,\n",
    "                                                 'data': eta,\n",
    "                                                  'R': R,\n",
    "                                                  'C': C,\n",
    "                                                  'K': K,\n",
    "                                                  'E': E,\n",
    "                                                  'B': B,\n",
    "                                                  'eta': eta})\n",
    "    return runs"
   ]
  },
  {
   "cell_type": "code",
   "execution_count": 245,
   "metadata": {},
   "outputs": [
    {
     "name": "stdout",
     "output_type": "stream",
     "text": [
      "type  K   False\n",
      "[2, 4, 6]\n",
      "type  E   False\n",
      "[4, 41]\n"
     ]
    }
   ],
   "source": [
    "exp = {}    \n",
    "for k, v in d.items():\n",
    "    expand = False\n",
    "    if isinstance(v, list):\n",
    "        print(\"type \", k, \" \", isinstance(v[0], float))\n",
    "        exp[k] = list(range(v[0], v[1], v[2]))\n",
    "        print(exp[k])\n",
    "    else:\n",
    "        exp[k] = [v]\n",
    "# expand_experiment(exp)\n",
    "        \n",
    "        "
   ]
  },
  {
   "cell_type": "code",
   "execution_count": 236,
   "metadata": {},
   "outputs": [
    {
     "data": {
      "text/plain": [
       "[0.2, 0.4, 0.6]"
      ]
     },
     "execution_count": 236,
     "metadata": {},
     "output_type": "execute_result"
    }
   ],
   "source": [
    "list(np.linspace(0.2, 0.6, 3))"
   ]
  },
  {
   "cell_type": "code",
   "execution_count": 97,
   "metadata": {},
   "outputs": [
    {
     "data": {
      "text/plain": [
       "[5, 10, 15, 20, 25, 30, 35, 40]"
      ]
     },
     "execution_count": 97,
     "metadata": {},
     "output_type": "execute_result"
    }
   ],
   "source": [
    "list(np.linspace(5, 40, 8).astype(int))"
   ]
  },
  {
   "cell_type": "markdown",
   "metadata": {},
   "source": [
    "# Pandas"
   ]
  },
  {
   "cell_type": "code",
   "execution_count": 8,
   "metadata": {},
   "outputs": [],
   "source": [
    "DATA_FOLDER     = '../pbaker_experiments'\n",
    "DF_EXPS_FNAME   = os.path.join(DATA_FOLDER, 'df_experiments.pkl')\n",
    "DF_RUNS_FNAME   = os.path.join(DATA_FOLDER, 'df_runs.pkl')\n",
    "DF_EXPS         = None\n",
    "DF_RUNS         = None\n",
    "DF_EXPS_COLUMNS = ['experiment']\n",
    "DF_RUNS_COLUMNS = ['experiment', 'run',\n",
    "                   'server_loss_initial', 'server_acc_initial', 'server_loss_final', 'server_acc_final',\n",
    "                   'client_loss_final', 'client_acc_final']\n",
    "\n",
    "def load_dataframes():\n",
    "    global DF_EXPS, DF_RUNS\n",
    "    if DF_EXPS == None:\n",
    "        print(DF_EXPS_FNAME)\n",
    "        if not os.path.isfile(DF_EXPS_FNAME):\n",
    "            if not os.path.exists(DATA_FOLDER):\n",
    "                os.makedirs(DATA_FOLDER)\n",
    "            print(\"Creating DataFrame files in: \", DATA_FOLDER)\n",
    "            pd.DataFrame(columns=DF_EXPS_COLUMNS).to_pickle(DF_EXPS_FNAME)\n",
    "            pd.DataFrame(columns=DF_RUNS_COLUMNS).to_pickle(DF_RUNS_FNAME)\n",
    "    DF_RUNS = pd.read_pickle(DF_RUNS_FNAME)\n",
    "    DF_EXPS = pd.read_pickle(DF_EXPS_FNAME)"
   ]
  },
  {
   "cell_type": "code",
   "execution_count": 111,
   "metadata": {},
   "outputs": [
    {
     "name": "stdout",
     "output_type": "stream",
     "text": [
      "../pbaker_experiments\\df_experiments.pkl\n"
     ]
    },
    {
     "data": {
      "text/html": [
       "<div>\n",
       "<style scoped>\n",
       "    .dataframe tbody tr th:only-of-type {\n",
       "        vertical-align: middle;\n",
       "    }\n",
       "\n",
       "    .dataframe tbody tr th {\n",
       "        vertical-align: top;\n",
       "    }\n",
       "\n",
       "    .dataframe thead th {\n",
       "        text-align: right;\n",
       "    }\n",
       "</style>\n",
       "<table border=\"1\" class=\"dataframe\">\n",
       "  <thead>\n",
       "    <tr style=\"text-align: right;\">\n",
       "      <th></th>\n",
       "      <th>experiment</th>\n",
       "      <th>run</th>\n",
       "    </tr>\n",
       "  </thead>\n",
       "  <tbody>\n",
       "    <tr>\n",
       "      <th>9</th>\n",
       "      <td>LotteryFL_MNIST_IID_R2_C0.4_K[5, 40, 8]_E10_B6...</td>\n",
       "      <td>LotteryFL_MNIST_IID_R2_C0.4_K25_E10_B64_eta0.0...</td>\n",
       "    </tr>\n",
       "    <tr>\n",
       "      <th>10</th>\n",
       "      <td>LotteryFL_MNIST_IID_R2_C0.4_K[5, 40, 8]_E10_B6...</td>\n",
       "      <td>LotteryFL_MNIST_IID_R2_C0.4_K30_E10_B64_eta0.0...</td>\n",
       "    </tr>\n",
       "    <tr>\n",
       "      <th>11</th>\n",
       "      <td>LotteryFL_MNIST_IID_R2_C0.4_K[5, 40, 8]_E10_B6...</td>\n",
       "      <td>LotteryFL_MNIST_IID_R2_C0.4_K35_E10_B64_eta0.0...</td>\n",
       "    </tr>\n",
       "    <tr>\n",
       "      <th>12</th>\n",
       "      <td>LotteryFL_MNIST_IID_R2_C0.4_K[5, 40, 8]_E10_B6...</td>\n",
       "      <td>LotteryFL_MNIST_IID_R2_C0.4_K40_E10_B64_eta0.0...</td>\n",
       "    </tr>\n",
       "  </tbody>\n",
       "</table>\n",
       "</div>"
      ],
      "text/plain": [
       "                                           experiment  \\\n",
       "9   LotteryFL_MNIST_IID_R2_C0.4_K[5, 40, 8]_E10_B6...   \n",
       "10  LotteryFL_MNIST_IID_R2_C0.4_K[5, 40, 8]_E10_B6...   \n",
       "11  LotteryFL_MNIST_IID_R2_C0.4_K[5, 40, 8]_E10_B6...   \n",
       "12  LotteryFL_MNIST_IID_R2_C0.4_K[5, 40, 8]_E10_B6...   \n",
       "\n",
       "                                                  run  \n",
       "9   LotteryFL_MNIST_IID_R2_C0.4_K25_E10_B64_eta0.0...  \n",
       "10  LotteryFL_MNIST_IID_R2_C0.4_K30_E10_B64_eta0.0...  \n",
       "11  LotteryFL_MNIST_IID_R2_C0.4_K35_E10_B64_eta0.0...  \n",
       "12  LotteryFL_MNIST_IID_R2_C0.4_K40_E10_B64_eta0.0...  "
      ]
     },
     "metadata": {},
     "output_type": "display_data"
    },
    {
     "data": {
      "text/html": [
       "<div>\n",
       "<style scoped>\n",
       "    .dataframe tbody tr th:only-of-type {\n",
       "        vertical-align: middle;\n",
       "    }\n",
       "\n",
       "    .dataframe tbody tr th {\n",
       "        vertical-align: top;\n",
       "    }\n",
       "\n",
       "    .dataframe thead th {\n",
       "        text-align: right;\n",
       "    }\n",
       "</style>\n",
       "<table border=\"1\" class=\"dataframe\">\n",
       "  <thead>\n",
       "    <tr style=\"text-align: right;\">\n",
       "      <th></th>\n",
       "      <th>run</th>\n",
       "      <th>algo</th>\n",
       "      <th>data</th>\n",
       "      <th>R</th>\n",
       "      <th>C</th>\n",
       "      <th>K</th>\n",
       "      <th>E</th>\n",
       "      <th>B</th>\n",
       "      <th>eta</th>\n",
       "      <th>acc_threshold</th>\n",
       "      <th>r_target</th>\n",
       "      <th>r_p</th>\n",
       "      <th>server_loss_initial</th>\n",
       "      <th>server_acc_initial</th>\n",
       "      <th>server_loss_final</th>\n",
       "      <th>server_acc_final</th>\n",
       "      <th>client_loss_final</th>\n",
       "      <th>client_acc_final</th>\n",
       "    </tr>\n",
       "  </thead>\n",
       "  <tbody>\n",
       "    <tr>\n",
       "      <th>0</th>\n",
       "      <td>FedAvg_MNIST_IID_R2_C0.3_K20_E10_B64_eta0.01_A...</td>\n",
       "      <td>FedAvg</td>\n",
       "      <td>MNIST_IID</td>\n",
       "      <td>2</td>\n",
       "      <td>0.3</td>\n",
       "      <td>20</td>\n",
       "      <td>10</td>\n",
       "      <td>64</td>\n",
       "      <td>0.01</td>\n",
       "      <td>0.0</td>\n",
       "      <td>0.00</td>\n",
       "      <td>0.00</td>\n",
       "      <td>124.184425</td>\n",
       "      <td>0.111467</td>\n",
       "      <td>2.288211</td>\n",
       "      <td>0.668600</td>\n",
       "      <td>89.175404</td>\n",
       "      <td>0.540400</td>\n",
       "    </tr>\n",
       "    <tr>\n",
       "      <th>1</th>\n",
       "      <td>FedAvg_MNIST_IID_R2_C0.3_K40_E10_B64_eta0.01_A...</td>\n",
       "      <td>FedAvg</td>\n",
       "      <td>MNIST_IID</td>\n",
       "      <td>2</td>\n",
       "      <td>0.3</td>\n",
       "      <td>40</td>\n",
       "      <td>10</td>\n",
       "      <td>64</td>\n",
       "      <td>0.01</td>\n",
       "      <td>0.0</td>\n",
       "      <td>0.00</td>\n",
       "      <td>0.00</td>\n",
       "      <td>159.361298</td>\n",
       "      <td>0.123517</td>\n",
       "      <td>2.310014</td>\n",
       "      <td>0.709833</td>\n",
       "      <td>72.026179</td>\n",
       "      <td>0.596200</td>\n",
       "    </tr>\n",
       "    <tr>\n",
       "      <th>2</th>\n",
       "      <td>FedAvg_MNIST_IID_R2_C0.3_K60_E10_B64_eta0.01_A...</td>\n",
       "      <td>FedAvg</td>\n",
       "      <td>MNIST_IID</td>\n",
       "      <td>2</td>\n",
       "      <td>0.3</td>\n",
       "      <td>60</td>\n",
       "      <td>10</td>\n",
       "      <td>64</td>\n",
       "      <td>0.01</td>\n",
       "      <td>0.0</td>\n",
       "      <td>0.00</td>\n",
       "      <td>0.00</td>\n",
       "      <td>157.234177</td>\n",
       "      <td>0.105250</td>\n",
       "      <td>1.883923</td>\n",
       "      <td>0.667383</td>\n",
       "      <td>79.864028</td>\n",
       "      <td>0.551630</td>\n",
       "    </tr>\n",
       "    <tr>\n",
       "      <th>3</th>\n",
       "      <td>FedAvg_MNIST_IID_R2_C0.3_K80_E10_B64_eta0.01_A...</td>\n",
       "      <td>FedAvg</td>\n",
       "      <td>MNIST_IID</td>\n",
       "      <td>2</td>\n",
       "      <td>0.3</td>\n",
       "      <td>80</td>\n",
       "      <td>10</td>\n",
       "      <td>64</td>\n",
       "      <td>0.01</td>\n",
       "      <td>0.0</td>\n",
       "      <td>0.00</td>\n",
       "      <td>0.00</td>\n",
       "      <td>146.435760</td>\n",
       "      <td>0.122783</td>\n",
       "      <td>2.223875</td>\n",
       "      <td>0.627167</td>\n",
       "      <td>78.903618</td>\n",
       "      <td>0.552269</td>\n",
       "    </tr>\n",
       "    <tr>\n",
       "      <th>4</th>\n",
       "      <td>FedAvg_MNIST_IID_R2_C0.3_K100_E10_B64_eta0.01_...</td>\n",
       "      <td>FedAvg</td>\n",
       "      <td>MNIST_IID</td>\n",
       "      <td>2</td>\n",
       "      <td>0.3</td>\n",
       "      <td>100</td>\n",
       "      <td>10</td>\n",
       "      <td>64</td>\n",
       "      <td>0.01</td>\n",
       "      <td>0.0</td>\n",
       "      <td>0.00</td>\n",
       "      <td>0.00</td>\n",
       "      <td>121.685715</td>\n",
       "      <td>0.147883</td>\n",
       "      <td>2.138341</td>\n",
       "      <td>0.622433</td>\n",
       "      <td>83.535736</td>\n",
       "      <td>0.569600</td>\n",
       "    </tr>\n",
       "    <tr>\n",
       "      <th>5</th>\n",
       "      <td>LotteryFL_MNIST_IID_R2_C0.4_K5_E10_B64_eta0.01...</td>\n",
       "      <td>LotteryFL</td>\n",
       "      <td>MNIST_IID</td>\n",
       "      <td>2</td>\n",
       "      <td>0.4</td>\n",
       "      <td>5</td>\n",
       "      <td>10</td>\n",
       "      <td>64</td>\n",
       "      <td>0.01</td>\n",
       "      <td>0.5</td>\n",
       "      <td>0.25</td>\n",
       "      <td>0.15</td>\n",
       "      <td>118.311615</td>\n",
       "      <td>0.121950</td>\n",
       "      <td>4.361474</td>\n",
       "      <td>0.762483</td>\n",
       "      <td>31.291558</td>\n",
       "      <td>0.823400</td>\n",
       "    </tr>\n",
       "    <tr>\n",
       "      <th>6</th>\n",
       "      <td>LotteryFL_MNIST_IID_R2_C0.4_K10_E10_B64_eta0.0...</td>\n",
       "      <td>LotteryFL</td>\n",
       "      <td>MNIST_IID</td>\n",
       "      <td>2</td>\n",
       "      <td>0.4</td>\n",
       "      <td>10</td>\n",
       "      <td>10</td>\n",
       "      <td>64</td>\n",
       "      <td>0.01</td>\n",
       "      <td>0.5</td>\n",
       "      <td>0.25</td>\n",
       "      <td>0.15</td>\n",
       "      <td>166.934601</td>\n",
       "      <td>0.092983</td>\n",
       "      <td>7.821488</td>\n",
       "      <td>0.708217</td>\n",
       "      <td>59.462167</td>\n",
       "      <td>0.663000</td>\n",
       "    </tr>\n",
       "    <tr>\n",
       "      <th>7</th>\n",
       "      <td>LotteryFL_MNIST_IID_R2_C0.4_K15_E10_B64_eta0.0...</td>\n",
       "      <td>LotteryFL</td>\n",
       "      <td>MNIST_IID</td>\n",
       "      <td>2</td>\n",
       "      <td>0.4</td>\n",
       "      <td>15</td>\n",
       "      <td>10</td>\n",
       "      <td>64</td>\n",
       "      <td>0.01</td>\n",
       "      <td>0.5</td>\n",
       "      <td>0.25</td>\n",
       "      <td>0.15</td>\n",
       "      <td>130.293015</td>\n",
       "      <td>0.139650</td>\n",
       "      <td>5.148735</td>\n",
       "      <td>0.663800</td>\n",
       "      <td>79.404033</td>\n",
       "      <td>0.515315</td>\n",
       "    </tr>\n",
       "    <tr>\n",
       "      <th>8</th>\n",
       "      <td>LotteryFL_MNIST_IID_R2_C0.4_K20_E10_B64_eta0.0...</td>\n",
       "      <td>LotteryFL</td>\n",
       "      <td>MNIST_IID</td>\n",
       "      <td>2</td>\n",
       "      <td>0.4</td>\n",
       "      <td>20</td>\n",
       "      <td>10</td>\n",
       "      <td>64</td>\n",
       "      <td>0.01</td>\n",
       "      <td>0.5</td>\n",
       "      <td>0.25</td>\n",
       "      <td>0.15</td>\n",
       "      <td>178.515717</td>\n",
       "      <td>0.098733</td>\n",
       "      <td>6.732659</td>\n",
       "      <td>0.706167</td>\n",
       "      <td>53.353412</td>\n",
       "      <td>0.680000</td>\n",
       "    </tr>\n",
       "    <tr>\n",
       "      <th>9</th>\n",
       "      <td>LotteryFL_MNIST_IID_R2_C0.4_K25_E10_B64_eta0.0...</td>\n",
       "      <td>LotteryFL</td>\n",
       "      <td>MNIST_IID</td>\n",
       "      <td>2</td>\n",
       "      <td>0.4</td>\n",
       "      <td>25</td>\n",
       "      <td>10</td>\n",
       "      <td>64</td>\n",
       "      <td>0.01</td>\n",
       "      <td>0.5</td>\n",
       "      <td>0.25</td>\n",
       "      <td>0.15</td>\n",
       "      <td>202.064362</td>\n",
       "      <td>0.106067</td>\n",
       "      <td>7.789520</td>\n",
       "      <td>0.707483</td>\n",
       "      <td>43.936266</td>\n",
       "      <td>0.737600</td>\n",
       "    </tr>\n",
       "    <tr>\n",
       "      <th>10</th>\n",
       "      <td>LotteryFL_MNIST_IID_R2_C0.4_K30_E10_B64_eta0.0...</td>\n",
       "      <td>LotteryFL</td>\n",
       "      <td>MNIST_IID</td>\n",
       "      <td>2</td>\n",
       "      <td>0.4</td>\n",
       "      <td>30</td>\n",
       "      <td>10</td>\n",
       "      <td>64</td>\n",
       "      <td>0.01</td>\n",
       "      <td>0.5</td>\n",
       "      <td>0.25</td>\n",
       "      <td>0.15</td>\n",
       "      <td>157.991257</td>\n",
       "      <td>0.046650</td>\n",
       "      <td>6.406722</td>\n",
       "      <td>0.695300</td>\n",
       "      <td>60.386760</td>\n",
       "      <td>0.638956</td>\n",
       "    </tr>\n",
       "    <tr>\n",
       "      <th>11</th>\n",
       "      <td>LotteryFL_MNIST_IID_R2_C0.4_K35_E10_B64_eta0.0...</td>\n",
       "      <td>LotteryFL</td>\n",
       "      <td>MNIST_IID</td>\n",
       "      <td>2</td>\n",
       "      <td>0.4</td>\n",
       "      <td>35</td>\n",
       "      <td>10</td>\n",
       "      <td>64</td>\n",
       "      <td>0.01</td>\n",
       "      <td>0.5</td>\n",
       "      <td>0.25</td>\n",
       "      <td>0.15</td>\n",
       "      <td>180.846024</td>\n",
       "      <td>0.094033</td>\n",
       "      <td>7.287049</td>\n",
       "      <td>0.666250</td>\n",
       "      <td>58.254755</td>\n",
       "      <td>0.664000</td>\n",
       "    </tr>\n",
       "    <tr>\n",
       "      <th>12</th>\n",
       "      <td>LotteryFL_MNIST_IID_R2_C0.4_K40_E10_B64_eta0.0...</td>\n",
       "      <td>LotteryFL</td>\n",
       "      <td>MNIST_IID</td>\n",
       "      <td>2</td>\n",
       "      <td>0.4</td>\n",
       "      <td>40</td>\n",
       "      <td>10</td>\n",
       "      <td>64</td>\n",
       "      <td>0.01</td>\n",
       "      <td>0.5</td>\n",
       "      <td>0.25</td>\n",
       "      <td>0.15</td>\n",
       "      <td>144.236557</td>\n",
       "      <td>0.066367</td>\n",
       "      <td>8.065874</td>\n",
       "      <td>0.659150</td>\n",
       "      <td>61.742108</td>\n",
       "      <td>0.656800</td>\n",
       "    </tr>\n",
       "  </tbody>\n",
       "</table>\n",
       "</div>"
      ],
      "text/plain": [
       "                                                  run       algo       data  \\\n",
       "0   FedAvg_MNIST_IID_R2_C0.3_K20_E10_B64_eta0.01_A...     FedAvg  MNIST_IID   \n",
       "1   FedAvg_MNIST_IID_R2_C0.3_K40_E10_B64_eta0.01_A...     FedAvg  MNIST_IID   \n",
       "2   FedAvg_MNIST_IID_R2_C0.3_K60_E10_B64_eta0.01_A...     FedAvg  MNIST_IID   \n",
       "3   FedAvg_MNIST_IID_R2_C0.3_K80_E10_B64_eta0.01_A...     FedAvg  MNIST_IID   \n",
       "4   FedAvg_MNIST_IID_R2_C0.3_K100_E10_B64_eta0.01_...     FedAvg  MNIST_IID   \n",
       "5   LotteryFL_MNIST_IID_R2_C0.4_K5_E10_B64_eta0.01...  LotteryFL  MNIST_IID   \n",
       "6   LotteryFL_MNIST_IID_R2_C0.4_K10_E10_B64_eta0.0...  LotteryFL  MNIST_IID   \n",
       "7   LotteryFL_MNIST_IID_R2_C0.4_K15_E10_B64_eta0.0...  LotteryFL  MNIST_IID   \n",
       "8   LotteryFL_MNIST_IID_R2_C0.4_K20_E10_B64_eta0.0...  LotteryFL  MNIST_IID   \n",
       "9   LotteryFL_MNIST_IID_R2_C0.4_K25_E10_B64_eta0.0...  LotteryFL  MNIST_IID   \n",
       "10  LotteryFL_MNIST_IID_R2_C0.4_K30_E10_B64_eta0.0...  LotteryFL  MNIST_IID   \n",
       "11  LotteryFL_MNIST_IID_R2_C0.4_K35_E10_B64_eta0.0...  LotteryFL  MNIST_IID   \n",
       "12  LotteryFL_MNIST_IID_R2_C0.4_K40_E10_B64_eta0.0...  LotteryFL  MNIST_IID   \n",
       "\n",
       "    R    C    K   E   B   eta  acc_threshold  r_target   r_p  \\\n",
       "0   2  0.3   20  10  64  0.01            0.0      0.00  0.00   \n",
       "1   2  0.3   40  10  64  0.01            0.0      0.00  0.00   \n",
       "2   2  0.3   60  10  64  0.01            0.0      0.00  0.00   \n",
       "3   2  0.3   80  10  64  0.01            0.0      0.00  0.00   \n",
       "4   2  0.3  100  10  64  0.01            0.0      0.00  0.00   \n",
       "5   2  0.4    5  10  64  0.01            0.5      0.25  0.15   \n",
       "6   2  0.4   10  10  64  0.01            0.5      0.25  0.15   \n",
       "7   2  0.4   15  10  64  0.01            0.5      0.25  0.15   \n",
       "8   2  0.4   20  10  64  0.01            0.5      0.25  0.15   \n",
       "9   2  0.4   25  10  64  0.01            0.5      0.25  0.15   \n",
       "10  2  0.4   30  10  64  0.01            0.5      0.25  0.15   \n",
       "11  2  0.4   35  10  64  0.01            0.5      0.25  0.15   \n",
       "12  2  0.4   40  10  64  0.01            0.5      0.25  0.15   \n",
       "\n",
       "    server_loss_initial  server_acc_initial  server_loss_final  \\\n",
       "0            124.184425            0.111467           2.288211   \n",
       "1            159.361298            0.123517           2.310014   \n",
       "2            157.234177            0.105250           1.883923   \n",
       "3            146.435760            0.122783           2.223875   \n",
       "4            121.685715            0.147883           2.138341   \n",
       "5            118.311615            0.121950           4.361474   \n",
       "6            166.934601            0.092983           7.821488   \n",
       "7            130.293015            0.139650           5.148735   \n",
       "8            178.515717            0.098733           6.732659   \n",
       "9            202.064362            0.106067           7.789520   \n",
       "10           157.991257            0.046650           6.406722   \n",
       "11           180.846024            0.094033           7.287049   \n",
       "12           144.236557            0.066367           8.065874   \n",
       "\n",
       "    server_acc_final  client_loss_final  client_acc_final  \n",
       "0           0.668600          89.175404          0.540400  \n",
       "1           0.709833          72.026179          0.596200  \n",
       "2           0.667383          79.864028          0.551630  \n",
       "3           0.627167          78.903618          0.552269  \n",
       "4           0.622433          83.535736          0.569600  \n",
       "5           0.762483          31.291558          0.823400  \n",
       "6           0.708217          59.462167          0.663000  \n",
       "7           0.663800          79.404033          0.515315  \n",
       "8           0.706167          53.353412          0.680000  \n",
       "9           0.707483          43.936266          0.737600  \n",
       "10          0.695300          60.386760          0.638956  \n",
       "11          0.666250          58.254755          0.664000  \n",
       "12          0.659150          61.742108          0.656800  "
      ]
     },
     "metadata": {},
     "output_type": "display_data"
    }
   ],
   "source": [
    "DF_EXPS         = None\n",
    "DF_RUNS         = None\n",
    "load_dataframes()\n",
    "display(DF_EXPS.tail(4))\n",
    "display(DF_RUNS)"
   ]
  },
  {
   "cell_type": "code",
   "execution_count": 108,
   "metadata": {},
   "outputs": [
    {
     "data": {
      "text/plain": [
       "array(['FedAvg_MNIST_IID_R2_C[0.3, 0.9, 1]_K[20, 100, 5]_E10_B64_eta0.01_Acc0.0_rtrg0.0_rprn0.0',\n",
       "       'LotteryFL_MNIST_IID_R2_C0.4_K[5, 40, 8]_E10_B64_eta0.01_Acc0.5_rtrg0.25_rprn0.15'],\n",
       "      dtype=object)"
      ]
     },
     "execution_count": 108,
     "metadata": {},
     "output_type": "execute_result"
    }
   ],
   "source": [
    "DF_EXPS['experiment'].unique()"
   ]
  },
  {
   "cell_type": "code",
   "execution_count": 115,
   "metadata": {},
   "outputs": [
    {
     "data": {
      "text/html": [
       "<div>\n",
       "<style scoped>\n",
       "    .dataframe tbody tr th:only-of-type {\n",
       "        vertical-align: middle;\n",
       "    }\n",
       "\n",
       "    .dataframe tbody tr th {\n",
       "        vertical-align: top;\n",
       "    }\n",
       "\n",
       "    .dataframe thead th {\n",
       "        text-align: right;\n",
       "    }\n",
       "</style>\n",
       "<table border=\"1\" class=\"dataframe\">\n",
       "  <thead>\n",
       "    <tr style=\"text-align: right;\">\n",
       "      <th></th>\n",
       "      <th>K</th>\n",
       "      <th>client_acc_final</th>\n",
       "    </tr>\n",
       "  </thead>\n",
       "  <tbody>\n",
       "    <tr>\n",
       "      <th>0</th>\n",
       "      <td>5</td>\n",
       "      <td>0.823400</td>\n",
       "    </tr>\n",
       "    <tr>\n",
       "      <th>1</th>\n",
       "      <td>10</td>\n",
       "      <td>0.663000</td>\n",
       "    </tr>\n",
       "    <tr>\n",
       "      <th>2</th>\n",
       "      <td>15</td>\n",
       "      <td>0.515315</td>\n",
       "    </tr>\n",
       "    <tr>\n",
       "      <th>3</th>\n",
       "      <td>20</td>\n",
       "      <td>0.680000</td>\n",
       "    </tr>\n",
       "    <tr>\n",
       "      <th>4</th>\n",
       "      <td>25</td>\n",
       "      <td>0.737600</td>\n",
       "    </tr>\n",
       "    <tr>\n",
       "      <th>5</th>\n",
       "      <td>30</td>\n",
       "      <td>0.638956</td>\n",
       "    </tr>\n",
       "    <tr>\n",
       "      <th>6</th>\n",
       "      <td>35</td>\n",
       "      <td>0.664000</td>\n",
       "    </tr>\n",
       "    <tr>\n",
       "      <th>7</th>\n",
       "      <td>40</td>\n",
       "      <td>0.656800</td>\n",
       "    </tr>\n",
       "  </tbody>\n",
       "</table>\n",
       "</div>"
      ],
      "text/plain": [
       "    K  client_acc_final\n",
       "0   5          0.823400\n",
       "1  10          0.663000\n",
       "2  15          0.515315\n",
       "3  20          0.680000\n",
       "4  25          0.737600\n",
       "5  30          0.638956\n",
       "6  35          0.664000\n",
       "7  40          0.656800"
      ]
     },
     "metadata": {},
     "output_type": "display_data"
    },
    {
     "data": {
      "image/png": "[encoded data removed]",
      "text/plain": [
       "<Figure size 432x288 with 1 Axes>"
      ]
     },
     "metadata": {
      "needs_background": "light"
     },
     "output_type": "display_data"
    },
    {
     "data": {
      "text/html": [
       "<div>\n",
       "<style scoped>\n",
       "    .dataframe tbody tr th:only-of-type {\n",
       "        vertical-align: middle;\n",
       "    }\n",
       "\n",
       "    .dataframe tbody tr th {\n",
       "        vertical-align: top;\n",
       "    }\n",
       "\n",
       "    .dataframe thead th {\n",
       "        text-align: right;\n",
       "    }\n",
       "</style>\n",
       "<table border=\"1\" class=\"dataframe\">\n",
       "  <thead>\n",
       "    <tr style=\"text-align: right;\">\n",
       "      <th></th>\n",
       "      <th>K</th>\n",
       "      <th>server_acc_final</th>\n",
       "    </tr>\n",
       "  </thead>\n",
       "  <tbody>\n",
       "    <tr>\n",
       "      <th>0</th>\n",
       "      <td>5</td>\n",
       "      <td>0.762483</td>\n",
       "    </tr>\n",
       "    <tr>\n",
       "      <th>1</th>\n",
       "      <td>10</td>\n",
       "      <td>0.708217</td>\n",
       "    </tr>\n",
       "    <tr>\n",
       "      <th>2</th>\n",
       "      <td>15</td>\n",
       "      <td>0.663800</td>\n",
       "    </tr>\n",
       "    <tr>\n",
       "      <th>3</th>\n",
       "      <td>20</td>\n",
       "      <td>0.706167</td>\n",
       "    </tr>\n",
       "    <tr>\n",
       "      <th>4</th>\n",
       "      <td>25</td>\n",
       "      <td>0.707483</td>\n",
       "    </tr>\n",
       "    <tr>\n",
       "      <th>5</th>\n",
       "      <td>30</td>\n",
       "      <td>0.695300</td>\n",
       "    </tr>\n",
       "    <tr>\n",
       "      <th>6</th>\n",
       "      <td>35</td>\n",
       "      <td>0.666250</td>\n",
       "    </tr>\n",
       "    <tr>\n",
       "      <th>7</th>\n",
       "      <td>40</td>\n",
       "      <td>0.659150</td>\n",
       "    </tr>\n",
       "  </tbody>\n",
       "</table>\n",
       "</div>"
      ],
      "text/plain": [
       "    K  server_acc_final\n",
       "0   5          0.762483\n",
       "1  10          0.708217\n",
       "2  15          0.663800\n",
       "3  20          0.706167\n",
       "4  25          0.707483\n",
       "5  30          0.695300\n",
       "6  35          0.666250\n",
       "7  40          0.659150"
      ]
     },
     "metadata": {},
     "output_type": "display_data"
    },
    {
     "data": {
      "text/plain": [
       "<AxesSubplot:xlabel='K'>"
      ]
     },
     "execution_count": 115,
     "metadata": {},
     "output_type": "execute_result"
    },
    {
     "data": {
      "image/png": "[encoded data removed]",
      "text/plain": [
       "<Figure size 432x288 with 1 Axes>"
      ]
     },
     "metadata": {
      "needs_background": "light"
     },
     "output_type": "display_data"
    }
   ],
   "source": [
    "experiment = 'LotteryFL_MNIST_IID_R2_C0.4_K[5, 40, 8]_E10_B64_eta0.01_Acc0.5_rtrg0.25_rprn0.15'\n",
    "mask = DF_EXPS['experiment'] == experiment\n",
    "\n",
    "display(DF_EXPS[mask].loc[:, 'run'].to_frame().merge(DF_RUNS, on='run')[['K', 'client_acc_final']])\n",
    "DF_EXPS[mask].loc[:, 'run'].to_frame().merge(DF_RUNS, on='run').plot(x='K', y='client_acc_final')\n",
    "plt.show()\n",
    "display(DF_EXPS[mask].loc[:, 'run'].to_frame().merge(DF_RUNS, on='run')[['K', 'server_acc_final']])\n",
    "DF_EXPS[mask].loc[:, 'run'].to_frame().merge(DF_RUNS, on='run').plot(x='K', y='server_acc_final')"
   ]
  },
  {
   "cell_type": "code",
   "execution_count": null,
   "metadata": {},
   "outputs": [],
   "source": []
  },
  {
   "cell_type": "code",
   "execution_count": 54,
   "metadata": {},
   "outputs": [
    {
     "data": {
      "text/html": [
       "<div>\n",
       "<style scoped>\n",
       "    .dataframe tbody tr th:only-of-type {\n",
       "        vertical-align: middle;\n",
       "    }\n",
       "\n",
       "    .dataframe tbody tr th {\n",
       "        vertical-align: top;\n",
       "    }\n",
       "\n",
       "    .dataframe thead th {\n",
       "        text-align: right;\n",
       "    }\n",
       "</style>\n",
       "<table border=\"1\" class=\"dataframe\">\n",
       "  <thead>\n",
       "    <tr style=\"text-align: right;\">\n",
       "      <th></th>\n",
       "      <th>a</th>\n",
       "      <th>b</th>\n",
       "      <th>c</th>\n",
       "    </tr>\n",
       "  </thead>\n",
       "  <tbody>\n",
       "    <tr>\n",
       "      <th>0</th>\n",
       "      <td>1</td>\n",
       "      <td>0.2</td>\n",
       "      <td>string</td>\n",
       "    </tr>\n",
       "    <tr>\n",
       "      <th>1</th>\n",
       "      <td>2</td>\n",
       "      <td>0.4</td>\n",
       "      <td>hello</td>\n",
       "    </tr>\n",
       "    <tr>\n",
       "      <th>2</th>\n",
       "      <td>3</td>\n",
       "      <td>0.6</td>\n",
       "      <td>string</td>\n",
       "    </tr>\n",
       "  </tbody>\n",
       "</table>\n",
       "</div>"
      ],
      "text/plain": [
       "   a    b       c\n",
       "0  1  0.2  string\n",
       "1  2  0.4   hello\n",
       "2  3  0.6  string"
      ]
     },
     "execution_count": 54,
     "metadata": {},
     "output_type": "execute_result"
    }
   ],
   "source": [
    "columns=['a', 'b', 'c']\n",
    "df = pd.DataFrame(columns=columns)\n",
    "df = df.append({'a': 1, 'b': 0.2, 'c': 'string'}, ignore_index=True)\n",
    "df = df.append({'a': 2, 'b': 0.4, 'c': 'hello'}, ignore_index=True)\n",
    "for i in range(3):\n",
    "    if not 3 in df['a'].values:\n",
    "        df = df.append({'a': 3, 'b': 0.6, 'c': 'string'}, ignore_index=True)\n",
    "df"
   ]
  },
  {
   "cell_type": "code",
   "execution_count": 55,
   "metadata": {},
   "outputs": [
    {
     "data": {
      "text/plain": [
       "{'a': 2, 'b': 0.4, 'c': 'hello'}"
      ]
     },
     "execution_count": 55,
     "metadata": {},
     "output_type": "execute_result"
    }
   ],
   "source": [
    "df.loc[df['a'] == 2].iloc[0].to_dict()"
   ]
  },
  {
   "cell_type": "code",
   "execution_count": 28,
   "metadata": {},
   "outputs": [
    {
     "data": {
      "text/plain": [
       "False"
      ]
     },
     "execution_count": 28,
     "metadata": {},
     "output_type": "execute_result"
    }
   ],
   "source": [
    "df[(df['a'] == 1) & (df['b'] == 0.2)].empty"
   ]
  },
  {
   "cell_type": "code",
   "execution_count": 37,
   "metadata": {},
   "outputs": [
    {
     "data": {
      "text/plain": [
       "42"
      ]
     },
     "execution_count": 37,
     "metadata": {},
     "output_type": "execute_result"
    }
   ],
   "source": [
    "d = {'a':1}\n",
    "d.get('b', 42)"
   ]
  },
  {
   "cell_type": "code",
   "execution_count": 39,
   "metadata": {},
   "outputs": [
    {
     "data": {
      "text/plain": [
       "'abcdef'"
      ]
     },
     "execution_count": 39,
     "metadata": {},
     "output_type": "execute_result"
    }
   ],
   "source": [
    "s = 'abc'\\\n",
    "'def'\n",
    "s"
   ]
  }
 ],
 "metadata": {
  "kernelspec": {
   "display_name": "Python 3",
   "language": "python",
   "name": "python3"
  },
  "language_info": {
   "codemirror_mode": {
    "name": "ipython",
    "version": 3
   },
   "file_extension": ".py",
   "mimetype": "text/x-python",
   "name": "python",
   "nbconvert_exporter": "python",
   "pygments_lexer": "ipython3",
   "version": "3.7.6"
  }
 },
 "nbformat": 4,
 "nbformat_minor": 4
}
